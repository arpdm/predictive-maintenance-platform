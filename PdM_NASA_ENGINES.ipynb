{
  "cells": [
    {
      "cell_type": "code",
      "source": [
        "# Colab data file preparation\n",
        "from google.colab import drive\n",
        "\n",
        "drive.mount(\"/content/drive\")\n",
        "\n",
        "!cp drive/MyDrive/Predictive_Maintenence_Fault_Detection/predictive-maintenance-platform/data_processor.py .\n",
        "!cp drive/MyDrive/Predictive_Maintenence_Fault_Detection/predictive-maintenance-platform/visualizer_analyzer.py .\n"
      ],
      "metadata": {
        "colab": {
          "base_uri": "https://localhost:8080/"
        },
        "id": "wzGRgs7JQqds",
        "outputId": "9ebef199-9b99-48d3-8d81-e1cc0972ffdb"
      },
      "execution_count": 1,
      "outputs": [
        {
          "output_type": "stream",
          "name": "stdout",
          "text": [
            "Drive already mounted at /content/drive; to attempt to forcibly remount, call drive.mount(\"/content/drive\", force_remount=True).\n"
          ]
        }
      ]
    },
    {
      "cell_type": "code",
      "source": [
        "from tabnanny import verbose\n",
        "from data_processor import DataProcessor\n",
        "from visualizer_analyzer import DataAV\n",
        "\n",
        "import tensorflow as tf\n",
        "\n",
        "# Load all datasets\n",
        "DS_001 = \"/content/drive/MyDrive/Predictive_Maintenence_Fault_Detection/data_set/N-CMAPSS_DS01-005.h5\"\n",
        "DS_002 = \"/content/drive/MyDrive/Predictive_Maintenence_Fault_Detection/data_set/N-CMAPSS_DS02-006.h5\"\n",
        "DS_003 = \"/content/drive/MyDrive/Predictive_Maintenence_Fault_Detection/data_set/N-CMAPSS_DS03-012.h5\"\n",
        "DS_004 = \"/content/drive/MyDrive/Predictive_Maintenence_Fault_Detection/data_set/N-CMAPSS_DS04.h5\"\n",
        "DS_005 = \"/content/drive/MyDrive/Predictive_Maintenence_Fault_Detection/data_set/N-CMAPSS_DS05.h5\"\n",
        "DS_006 = \"/content/drive/MyDrive/Predictive_Maintenence_Fault_Detection/data_set/N-CMAPSS_DS06.h5\"\n",
        "DS_007 = \"/content/drive/MyDrive/Predictive_Maintenence_Fault_Detection/data_set/N-CMAPSS_DS07.h5\"\n",
        "DS_008 = \"/content/drive/MyDrive/Predictive_Maintenence_Fault_Detection/data_set/N-CMAPSS_DS08a-009.h5\"\n",
        "DS_009 = \"/content/drive/MyDrive/Predictive_Maintenence_Fault_Detection/data_set/N-CMAPSS_DS08c-008.h5\"\n",
        "DS_010 = \"/content/drive/MyDrive/Predictive_Maintenence_Fault_Detection/data_set/N-CMAPSS_DS08d-010.h5\""
      ],
      "metadata": {
        "id": "Rwp9tyDxtYor"
      },
      "execution_count": 2,
      "outputs": []
    },
    {
      "cell_type": "code",
      "source": [
        "# Load data set and prepare data frames\n",
        "pros = DataProcessor()\n",
        "pros.load_hdf5_to_numpy_arr(DS_004)"
      ],
      "metadata": {
        "colab": {
          "base_uri": "https://localhost:8080/"
        },
        "id": "DdRX8ShGxYUf",
        "outputId": "7b9cf40b-9097-48cb-97b9-1609227ee419"
      },
      "execution_count": 3,
      "outputs": [
        {
          "output_type": "stream",
          "name": "stdout",
          "text": [
            "Process data for NASA's engines run-to-failure datasets\n",
            "Operation time (sec):  7.920516879000001\n"
          ]
        }
      ]
    },
    {
      "cell_type": "code",
      "source": [
        "# Create a visualizer class. This is useful for understanding the data we work with\n",
        "# it will determine feature extraction and model architecture to some extend\n",
        "vs_an = DataAV(pros.df_aux,pros.df_x_s,pros.x_s_var_names,pros.df_w,pros.df_t,pros.t_var_names,pros.w_var_names,pros.df_ts)"
      ],
      "metadata": {
        "colab": {
          "base_uri": "https://localhost:8080/"
        },
        "id": "UIaEEsE8xiHh",
        "outputId": "63aaa501-7113-40eb-e488-279cf771f373"
      },
      "execution_count": 4,
      "outputs": [
        {
          "output_type": "stream",
          "name": "stdout",
          "text": [
            "Data analyzer and visualizer.\n"
          ]
        }
      ]
    },
    {
      "cell_type": "code",
      "source": [
        "# Generate all visualization graphs and plots necessary for understanding data.\n",
        "vs_an.get_engine_units_in_dataset()\n",
        "vs_an.plot_flight_classes()\n",
        "vs_an.show_engine_health_parameter_stats()\n",
        "vs_an.generate_engine_health_parameter_graphs()\n",
        "vs_an.generate_hpt_eff_over_cycles_all_engines()\n",
        "vs_an.generate_sensor_readings_graphs_single_unit(1)\n",
        "vs_an.generate_sensor_readings_graphs_single_unit_single_cycle(1, 2)\n",
        "vs_an.plot_health_states_for_all_engines()\n",
        "vs_an.generate_flight_profle_single_unit_single_cycle(1, 2)\n",
        "vs_an.generate_flight_envelope()\n",
        "vs_an.generate_kde_estimations_of_flight_profile()"
      ],
      "metadata": {
        "id": "pT-0Jxt-xxLn"
      },
      "execution_count": null,
      "outputs": []
    },
    {
      "cell_type": "code",
      "source": [
        "\"\"\"\n",
        "Genearate the tf dataset with proper dimensionality and shape given input parameters.\n",
        "This dataset will split into training and validation subsets.\n",
        "\"\"\"\n",
        "\n",
        "window = 48\n",
        "horizon = 1\n",
        "train_split = 4906636\n",
        "batch_size = 256\n",
        "buffer_size = 150\n",
        "\n",
        "x_train, y_train = pros.custom_ts_multi_data_prep(pros.w, pros.y_rul, 0, train_split, window, horizon)\n",
        "x_vali, y_vali = pros.custom_ts_multi_data_prep(pros.w, pros.y_rul, train_split, None, window, horizon)\n",
        "\n",
        "train_data = tf.data.Dataset.from_tensor_slices((x_train, y_train))\n",
        "train_data = train_data.cache().shuffle(buffer_size).batch(batch_size).repeat()\n",
        "\n",
        "val_data = tf.data.Dataset.from_tensor_slices((x_vali, y_vali))\n",
        "val_data = val_data.batch(batch_size).repeat()\n"
      ],
      "metadata": {
        "id": "XIBzs0CZ00SG",
        "outputId": "85c09ed0-465e-4f04-8f7f-2e6190e20d5d",
        "colab": {
          "base_uri": "https://localhost:8080/",
          "height": 366
        }
      },
      "execution_count": 10,
      "outputs": [
        {
          "output_type": "error",
          "ename": "KeyboardInterrupt",
          "evalue": "ignored",
          "traceback": [
            "\u001b[0;31m---------------------------------------------------------------------------\u001b[0m",
            "\u001b[0;31mKeyboardInterrupt\u001b[0m                         Traceback (most recent call last)",
            "\u001b[0;32m<ipython-input-10-d2ab20645acf>\u001b[0m in \u001b[0;36m<module>\u001b[0;34m\u001b[0m\n\u001b[1;32m     10\u001b[0m \u001b[0mbuffer_size\u001b[0m \u001b[0;34m=\u001b[0m \u001b[0;36m150\u001b[0m\u001b[0;34m\u001b[0m\u001b[0;34m\u001b[0m\u001b[0m\n\u001b[1;32m     11\u001b[0m \u001b[0;34m\u001b[0m\u001b[0m\n\u001b[0;32m---> 12\u001b[0;31m \u001b[0mx_train\u001b[0m\u001b[0;34m,\u001b[0m \u001b[0my_train\u001b[0m \u001b[0;34m=\u001b[0m \u001b[0mpros\u001b[0m\u001b[0;34m.\u001b[0m\u001b[0mcustom_ts_multi_data_prep\u001b[0m\u001b[0;34m(\u001b[0m\u001b[0mpros\u001b[0m\u001b[0;34m.\u001b[0m\u001b[0mw\u001b[0m\u001b[0;34m,\u001b[0m \u001b[0mpros\u001b[0m\u001b[0;34m.\u001b[0m\u001b[0my_rul\u001b[0m\u001b[0;34m,\u001b[0m \u001b[0;36m0\u001b[0m\u001b[0;34m,\u001b[0m \u001b[0mtrain_split\u001b[0m\u001b[0;34m,\u001b[0m \u001b[0mwindow\u001b[0m\u001b[0;34m,\u001b[0m \u001b[0mhorizon\u001b[0m\u001b[0;34m)\u001b[0m\u001b[0;34m\u001b[0m\u001b[0;34m\u001b[0m\u001b[0m\n\u001b[0m\u001b[1;32m     13\u001b[0m \u001b[0mx_vali\u001b[0m\u001b[0;34m,\u001b[0m \u001b[0my_vali\u001b[0m \u001b[0;34m=\u001b[0m \u001b[0mpros\u001b[0m\u001b[0;34m.\u001b[0m\u001b[0mcustom_ts_multi_data_prep\u001b[0m\u001b[0;34m(\u001b[0m\u001b[0mpros\u001b[0m\u001b[0;34m.\u001b[0m\u001b[0mw\u001b[0m\u001b[0;34m,\u001b[0m \u001b[0mpros\u001b[0m\u001b[0;34m.\u001b[0m\u001b[0my_rul\u001b[0m\u001b[0;34m,\u001b[0m \u001b[0mtrain_split\u001b[0m\u001b[0;34m,\u001b[0m \u001b[0;32mNone\u001b[0m\u001b[0;34m,\u001b[0m \u001b[0mwindow\u001b[0m\u001b[0;34m,\u001b[0m \u001b[0mhorizon\u001b[0m\u001b[0;34m)\u001b[0m\u001b[0;34m\u001b[0m\u001b[0;34m\u001b[0m\u001b[0m\n\u001b[1;32m     14\u001b[0m \u001b[0;34m\u001b[0m\u001b[0m\n",
            "\u001b[0;32m/content/data_processor.py\u001b[0m in \u001b[0;36mcustom_ts_multi_data_prep\u001b[0;34m(self, x_data, y_data, start, end, window, horizon)\u001b[0m\n\u001b[1;32m     98\u001b[0m         \u001b[0;32mfor\u001b[0m \u001b[0mi\u001b[0m \u001b[0;32min\u001b[0m \u001b[0mrange\u001b[0m\u001b[0;34m(\u001b[0m\u001b[0mstart\u001b[0m\u001b[0;34m,\u001b[0m \u001b[0mend\u001b[0m\u001b[0;34m)\u001b[0m\u001b[0;34m:\u001b[0m\u001b[0;34m\u001b[0m\u001b[0;34m\u001b[0m\u001b[0m\n\u001b[1;32m     99\u001b[0m             \u001b[0mindices\u001b[0m \u001b[0;34m=\u001b[0m \u001b[0mrange\u001b[0m\u001b[0;34m(\u001b[0m\u001b[0mi\u001b[0m \u001b[0;34m-\u001b[0m \u001b[0mwindow\u001b[0m\u001b[0;34m,\u001b[0m \u001b[0mi\u001b[0m\u001b[0;34m)\u001b[0m\u001b[0;34m\u001b[0m\u001b[0;34m\u001b[0m\u001b[0m\n\u001b[0;32m--> 100\u001b[0;31m             \u001b[0mX\u001b[0m\u001b[0;34m.\u001b[0m\u001b[0mappend\u001b[0m\u001b[0;34m(\u001b[0m\u001b[0mx_data\u001b[0m\u001b[0;34m[\u001b[0m\u001b[0mindices\u001b[0m\u001b[0;34m]\u001b[0m\u001b[0;34m)\u001b[0m\u001b[0;34m\u001b[0m\u001b[0;34m\u001b[0m\u001b[0m\n\u001b[0m\u001b[1;32m    101\u001b[0m \u001b[0;34m\u001b[0m\u001b[0m\n\u001b[1;32m    102\u001b[0m             \u001b[0mindicey\u001b[0m \u001b[0;34m=\u001b[0m \u001b[0mrange\u001b[0m\u001b[0;34m(\u001b[0m\u001b[0mi\u001b[0m \u001b[0;34m+\u001b[0m \u001b[0;36m1\u001b[0m\u001b[0;34m,\u001b[0m \u001b[0mi\u001b[0m \u001b[0;34m+\u001b[0m \u001b[0;36m1\u001b[0m \u001b[0;34m+\u001b[0m \u001b[0mhorizon\u001b[0m\u001b[0;34m)\u001b[0m\u001b[0;34m\u001b[0m\u001b[0;34m\u001b[0m\u001b[0m\n",
            "\u001b[0;31mKeyboardInterrupt\u001b[0m: "
          ]
        }
      ]
    },
    {
      "cell_type": "code",
      "source": [
        "\"\"\"\n",
        "Build the DNN model with its layers that will be used for RUL preditcions.\n",
        "\"\"\"\n",
        "\n",
        "model = tf.keras.models.Sequential(\n",
        "    [\n",
        "        tf.keras.layers.Bidirectional(\n",
        "            tf.keras.layers.LSTM(200, return_sequences=True), input_shape=x_train.shape[-2:]\n",
        "        ),\n",
        "        tf.keras.layers.Dense(20, activation=\"tanh\"),\n",
        "        tf.keras.layers.Bidirectional(tf.keras.layers.LSTM(150)),\n",
        "        tf.keras.layers.Dense(20, activation=\"tanh\"),\n",
        "        tf.keras.layers.Dense(20, activation=\"tanh\"),\n",
        "        tf.keras.layers.Dropout(0.25),\n",
        "        tf.keras.layers.Dense(1),\n",
        "    ]\n",
        ")\n",
        "\n",
        "model.compile(optimizer=\"adam\", loss=\"mse\")\n",
        "model.summary()"
      ],
      "metadata": {
        "id": "I0j7cBtH1KJB"
      },
      "execution_count": null,
      "outputs": []
    },
    {
      "cell_type": "code",
      "source": [
        "\"\"\"\n",
        "Train the generate model based on provided epochs and steps.\n",
        "This function will also automatically generate the plot for loss history.\n",
        "\"\"\"\n",
        "\n",
        "epochs = 150\n",
        "steps = 100\n",
        "validation_steps = 50\n",
        "verbose = 1\n",
        "\n",
        "tf.keras.backend.clear_session()\n",
        "\n",
        "history = model.fit(\n",
        "    x=train_data, epochs=epochs, steps_per_epoch=steps, validation_data=val_data, validation_steps=validation_steps, verbose=verbose\n",
        ")\n",
        "\n",
        "vs_an.plot_training_results_history(history)"
      ],
      "metadata": {
        "id": "yPT9C8PB1R3W"
      },
      "execution_count": null,
      "outputs": []
    },
    {
      "cell_type": "code",
      "source": [
        "vs_an.plot_training_results_history(history)"
      ],
      "metadata": {
        "id": "P0tjCzD3zQDr"
      },
      "execution_count": null,
      "outputs": []
    }
  ],
  "metadata": {
    "accelerator": "GPU",
    "colab": {
      "collapsed_sections": [],
      "machine_shape": "hm",
      "provenance": []
    },
    "gpuClass": "premium",
    "kernelspec": {
      "display_name": "Python 3.10.6 64-bit",
      "language": "python",
      "name": "python3"
    },
    "language_info": {
      "name": "python",
      "version": "3.10.6"
    },
    "vscode": {
      "interpreter": {
        "hash": "916dbcbb3f70747c44a77c7bcd40155683ae19c65e1c03b4aa3499c5328201f1"
      }
    }
  },
  "nbformat": 4,
  "nbformat_minor": 0
}