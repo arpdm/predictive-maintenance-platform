{
  "cells": [
    {
      "cell_type": "markdown",
      "metadata": {
        "id": "view-in-github",
        "colab_type": "text"
      },
      "source": [
        "<a href=\"https://colab.research.google.com/github/arpdm/predictive-maintenance-platform/blob/main/Experiments/experiment_001.ipynb\" target=\"_parent\"><img src=\"https://colab.research.google.com/assets/colab-badge.svg\" alt=\"Open In Colab\"/></a>"
      ]
    },
    {
      "cell_type": "code",
      "execution_count": null,
      "metadata": {
        "id": "2aF4sEtzEWaC"
      },
      "outputs": [],
      "source": [
        "from google.colab import drive\n",
        "drive.mount(\"/content/drive/\")\n",
        "\n",
        "!cp drive/MyDrive/PdM/predictive-maintenance-platform/engine_data.py .\n",
        "!cp drive/MyDrive/PdM/predictive-maintenance-platform/plot_util.py .\n",
        "!cp drive/MyDrive/PdM/predictive-maintenance-platform/mark_001_model.py .\n",
        "!cp drive/MyDrive/PdM/predictive-maintenance-platform/pcoe_engine_data_visualizer.py ."
      ]
    },
    {
      "cell_type": "code",
      "source": [
        "pip install tensorflow-addons"
      ],
      "metadata": {
        "id": "7HuitLhW72dy"
      },
      "execution_count": null,
      "outputs": []
    },
    {
      "cell_type": "code",
      "execution_count": 12,
      "metadata": {
        "id": "9al6a1exEuIC"
      },
      "outputs": [],
      "source": [
        "import tensorflow as tf\n",
        "import pandas as pd\n",
        "\n",
        "from engine_data import EngineData\n",
        "from pcoe_engine_data_visualizer import PcoeEngingeVis\n",
        "from plot_util import PlotUtil\n",
        "from mark_001_model import Mark001Model"
      ]
    },
    {
      "cell_type": "code",
      "execution_count": 13,
      "metadata": {
        "id": "D27R-TCwGwpO"
      },
      "outputs": [],
      "source": [
        "# Load all datasets\n",
        "BASE_PATH = \"/content/drive/MyDrive/PdM/data_set/\"\n",
        "\n",
        "DS_001 = BASE_PATH + \"N-CMAPSS_DS01-005.h5\"\n",
        "DS_002 = BASE_PATH + \"N-CMAPSS_DS02-006.h5\"\n",
        "DS_003 = BASE_PATH + \"N-CMAPSS_DS03-012.h5\"\n",
        "DS_004 = BASE_PATH + \"N-CMAPSS_DS04.h5\"\n",
        "DS_005 = BASE_PATH + \"N-CMAPSS_DS05.h5\"\n",
        "DS_006 = BASE_PATH + \"N-CMAPSS_DS06.h5\"\n",
        "DS_007 = BASE_PATH + \"N-CMAPSS_DS07.h5\"\n",
        "DS_008 = BASE_PATH + \"N-CMAPSS_DS08a-009.h5\"\n",
        "DS_009 = BASE_PATH + \"N-CMAPSS_DS08c-008.h5\"\n",
        "DS_010 = BASE_PATH + \"N-CMAPSS_DS08d-010.h5\""
      ]
    },
    {
      "cell_type": "code",
      "execution_count": null,
      "metadata": {
        "id": "2THOIr3uG2Sl"
      },
      "outputs": [],
      "source": [
        "# Load data set and prepare data frames\n",
        "ed = EngineData()\n",
        "pcoe_enging_vis = PcoeEngingeVis(ed)\n",
        "plot_util = PlotUtil()\n",
        "mark_001 = Mark001Model()"
      ]
    },
    {
      "cell_type": "code",
      "execution_count": null,
      "metadata": {
        "id": "2taTJ2QQJ4NL"
      },
      "outputs": [],
      "source": [
        "# Dataset load block\n",
        "ed.load_hdf5_to_numpy_arr(DS_001)\n",
        "ed.df_x_s_train = ed.add_labels_to_dataset(ed.df_x_s_train)\n",
        "ed.df_x_s_train = ed.normalize_dataset(ed.df_x_s_train)\n",
        "ed.df_x_s_test = ed.add_labels_to_dataset(ed.df_x_s_test)\n",
        "ed.df_x_s_test = ed.normalize_dataset(ed.df_x_s_test)"
      ]
    },
    {
      "cell_type": "code",
      "execution_count": 16,
      "metadata": {
        "id": "O-hcrPpe6aRM"
      },
      "outputs": [],
      "source": [
        "# Hyperparameters required for ADAM Optimizer\n",
        "adam_params ={\n",
        "  \"weight_decay\": 0,\n",
        "  \"learning_rate\": 1e-3,\n",
        "  \"beta_1\": 0.9,\n",
        "  \"beta_2\": 0.999,\n",
        "  \"epsilon\": 1e-8,\n",
        "}"
      ]
    },
    {
      "cell_type": "code",
      "execution_count": null,
      "metadata": {
        "id": "3WxzwjClWFDO"
      },
      "outputs": [],
      "source": [
        "# Model build block\n",
        "window = 50\n",
        "batch_size = 256\n",
        "epochs = 40\n",
        "steps = 100\n",
        "patience_epoch = 10\n",
        "data_path = \"/content/drive/MyDrive/PdM/model_generated_data\"\n",
        "\n",
        "features = ed.df_x_s_train.columns.drop([\"RUL\", \"label1\", \"label2\", \"cycle\", \"id\"]).size\n",
        "model_mark_001 = mark_001.create_binary_classifier_model(window, features, units_first_layer = 100, units_second_layer= 50, dropout_rate= 0.2, optimizer_hyperparams = adam_params, adam_w_enabled=False)"
      ]
    },
    {
      "cell_type": "markdown",
      "metadata": {
        "id": "GGLWXUZxgJ6n"
      },
      "source": [
        "## Experiment 001\n",
        "\n",
        "Training the model with all the engine units in selected training dataset."
      ]
    },
    {
      "cell_type": "code",
      "execution_count": null,
      "metadata": {
        "id": "dJEO51Yua1ei"
      },
      "outputs": [],
      "source": [
        "import numpy as np\n",
        "\n",
        "for engine_unit in np.unique(ed.df_aux_train[\"unit\"]):\n",
        "    ## Training Block\n",
        "    single_engine_train = ed.generate_data_frame_for_specific_engine(ed.df_x_s_train, engine_unit)\n",
        "    x_train, y_train = ed.generate_x_y_model_inputs(single_engine_train, window=window)\n",
        "\n",
        "    mark_001_history = mark_001.fit_model(x_train, y_train, epochs, steps, batch_size, patience_epoch)\n",
        "    plot_util.generate_training_history_accuracy_and_loss_plot(mark_001_history, data_path)"
      ]
    },
    {
      "cell_type": "code",
      "execution_count": null,
      "metadata": {
        "id": "L-q4z9jkJt5A"
      },
      "outputs": [],
      "source": [
        "for engine_unit in np.unique(ed.df_aux_test[\"unit\"]):\n",
        "    ## Test Block\n",
        "    print(\"========================================================================================\")\n",
        "    single_engine_test = ed.generate_data_frame_for_specific_engine(ed.df_x_s_test, engine_unit)\n",
        "    x_test, y_test = ed.generate_x_y_model_inputs(single_engine_test, window = window)\n",
        "\n",
        "    (y_pred,y_true, cm) = mark_001.test_model(x_test, y_test)\n",
        "    plot_util.generate_heat_map(cm)\n",
        "    cm.head()\n",
        "    plot_util.generate_predicted_vs_true_plot(y_true, y_pred, \"About To Fail\")\n",
        "    plot_util.generate_about_to_fail_graphs(y_true, y_pred)\n",
        "    print(\"========================================================================================\")"
      ]
    }
  ],
  "metadata": {
    "accelerator": "GPU",
    "colab": {
      "machine_shape": "hm",
      "provenance": [],
      "include_colab_link": true
    },
    "gpuClass": "premium",
    "kernelspec": {
      "display_name": "Python 3",
      "language": "python",
      "name": "python3"
    },
    "language_info": {
      "name": "python",
      "version": "3.10.9 (tags/v3.10.9:1dd9be6, Dec  6 2022, 20:01:21) [MSC v.1934 64 bit (AMD64)]"
    },
    "orig_nbformat": 4,
    "vscode": {
      "interpreter": {
        "hash": "1be489e4256ebfa0a27a044897bf0efe441c8e767b49ff8728c46fcf16246479"
      }
    }
  },
  "nbformat": 4,
  "nbformat_minor": 0
}