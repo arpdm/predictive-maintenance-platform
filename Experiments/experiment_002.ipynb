{
 "cells": [
  {
   "cell_type": "markdown",
   "metadata": {
    "colab_type": "text",
    "id": "view-in-github"
   },
   "source": [
    "<a href=\"https://colab.research.google.com/github/arpdm/predictive-maintenance-platform/blob/main/Experiments/experiment_002.ipynb\" target=\"_parent\"><img src=\"https://colab.research.google.com/assets/colab-badge.svg\" alt=\"Open In Colab\"/></a>"
   ]
  },
  {
   "cell_type": "code",
   "execution_count": null,
   "metadata": {
    "id": "hAys0qQ8vUZG"
   },
   "outputs": [],
   "source": [
    "from google.colab import drive\n",
    "\n",
    "drive.mount(\"/content/drive/\")\n",
    "\n",
    "!cp drive/MyDrive/PdM/predictive-maintenance-platform/engine_data.py .\n",
    "!cp drive/MyDrive/PdM/predictive-maintenance-platform/plot_util.py .\n",
    "!cp drive/MyDrive/PdM/predictive-maintenance-platform/mark_001_model.py .\n",
    "!cp drive/MyDrive/PdM/predictive-maintenance-platform/pcoe_engine_data_visualizer.py ."
   ]
  },
  {
   "cell_type": "code",
   "execution_count": null,
   "metadata": {
    "id": "WhmwJ8J-0V8o"
   },
   "outputs": [],
   "source": [
    "pip install tensorflow-addons"
   ]
  },
  {
   "cell_type": "code",
   "execution_count": 11,
   "metadata": {
    "id": "VF_2kJbqv13G"
   },
   "outputs": [],
   "source": [
    "import tensorflow as tf\n",
    "import tensorflow_addons as tfa\n",
    "import pandas as pd\n",
    "import numpy as np\n",
    "\n",
    "from engine_data import EngineData\n",
    "from pcoe_engine_data_visualizer import PcoeEngingeVis\n",
    "from plot_util import PlotUtil\n",
    "from mark_001_model import Mark001Model"
   ]
  },
  {
   "cell_type": "code",
   "execution_count": 4,
   "metadata": {
    "id": "G_lAYq1Sv3-4"
   },
   "outputs": [],
   "source": [
    "# Load all datasets\n",
    "BASE_PATH = \"/content/drive/MyDrive/PdM/data_set/\"\n",
    "\n",
    "DS_001 = BASE_PATH + \"N-CMAPSS_DS01-005.h5\"\n",
    "DS_002 = BASE_PATH + \"N-CMAPSS_DS02-006.h5\"\n",
    "DS_003 = BASE_PATH + \"N-CMAPSS_DS03-012.h5\"\n",
    "DS_004 = BASE_PATH + \"N-CMAPSS_DS04.h5\"\n",
    "DS_005 = BASE_PATH + \"N-CMAPSS_DS05.h5\"\n",
    "DS_006 = BASE_PATH + \"N-CMAPSS_DS06.h5\"\n",
    "DS_007 = BASE_PATH + \"N-CMAPSS_DS07.h5\"\n",
    "DS_008 = BASE_PATH + \"N-CMAPSS_DS08a-009.h5\"\n",
    "DS_009 = BASE_PATH + \"N-CMAPSS_DS08c-008.h5\"\n",
    "DS_010 = BASE_PATH + \"N-CMAPSS_DS08d-010.h5\""
   ]
  },
  {
   "cell_type": "code",
   "execution_count": null,
   "metadata": {
    "id": "WE785JcY5oFT"
   },
   "outputs": [],
   "source": [
    "# Load data set and prepare data frames\n",
    "ed = EngineData()\n",
    "pcoe_enging_vis = PcoeEngingeVis(ed)\n",
    "plot_util = PlotUtil()\n",
    "mark_001 = Mark001Model()"
   ]
  },
  {
   "cell_type": "code",
   "execution_count": null,
   "metadata": {
    "id": "ZgDX5l125q1Y"
   },
   "outputs": [],
   "source": [
    "# Dataset load block\n",
    "ed.load_hdf5_to_numpy_arr(DS_001)\n",
    "ed.df_x_s_train = ed.add_labels_to_dataset(ed.df_x_s_train)\n",
    "ed.df_x_s_train = ed.normalize_dataset(ed.df_x_s_train)\n",
    "ed.df_x_s_test = ed.add_labels_to_dataset(ed.df_x_s_test)\n",
    "ed.df_x_s_test = ed.normalize_dataset(ed.df_x_s_test)"
   ]
  },
  {
   "cell_type": "code",
   "execution_count": null,
   "metadata": {
    "id": "GvM63h-BDQaB"
   },
   "outputs": [],
   "source": [
    "ed.df_x_s_train.size()"
   ]
  },
  {
   "cell_type": "markdown",
   "metadata": {
    "id": "dbbMuNIj5zYa"
   },
   "source": [
    "# Experiment 002\n",
    "\n",
    "In this experiment we are going to use Adam with Weight Decay. In the weight decay unlike L2 regularization that modifies the loss function, we modify the update step.\n",
    "\n",
    "https://arxiv.org/pdf/1711.05101.pdf\n"
   ]
  },
  {
   "cell_type": "code",
   "execution_count": 20,
   "metadata": {
    "id": "KWE5e32C7-EK"
   },
   "outputs": [],
   "source": [
    "# Hyperparameters required for ADAMW Optimizer\n",
    "adamw_params = {\n",
    "    \"weight_decay\": 0.001,\n",
    "    \"learning_rate\": 1e-3,\n",
    "    \"beta_1\": 0.9,\n",
    "    \"beta_2\": 0.999,\n",
    "    \"epsilon\": 1e-8,\n",
    "}"
   ]
  },
  {
   "cell_type": "code",
   "execution_count": null,
   "metadata": {
    "id": "egJmonat5tPg"
   },
   "outputs": [],
   "source": [
    "# Model build block\n",
    "window = 50\n",
    "batch_size = 256\n",
    "epochs = 50\n",
    "steps = 100\n",
    "patience_epoch = 20\n",
    "data_path = \"/content/drive/MyDrive/PdM/model_generated_data\"\n",
    "\n",
    "features = ed.df_x_s_train.columns.drop([\"RUL\", \"label1\", \"label2\", \"cycle\", \"id\"]).size\n",
    "model_mark_001 = mark_001.create_binary_classifier_model(\n",
    "    window,\n",
    "    features,\n",
    "    units_first_layer=100,\n",
    "    units_second_layer=50,\n",
    "    dropout_rate=0.2,\n",
    "    optimizer_hyperparams=adamw_params,\n",
    "    adam_w_enabled=True,\n",
    ")"
   ]
  },
  {
   "cell_type": "code",
   "execution_count": null,
   "metadata": {
    "id": "WmBma7wX-Mjc"
   },
   "outputs": [],
   "source": [
    "for engine_unit in np.unique(ed.df_aux_train[\"unit\"]):\n",
    "    ## Training Block\n",
    "    single_engine_train = ed.generate_data_frame_for_specific_engine(ed.df_x_s_train, engine_unit)\n",
    "    x_train, y_train = ed.generate_x_y_model_inputs(single_engine_train, window=window)\n",
    "\n",
    "    mark_001_history = mark_001.fit_model(x_train, y_train, epochs, steps, batch_size, patience_epoch)\n",
    "    plot_util.generate_training_history_accuracy_and_loss_plot(mark_001_history, data_path)"
   ]
  },
  {
   "cell_type": "code",
   "execution_count": null,
   "metadata": {
    "id": "8yUjef50_i40"
   },
   "outputs": [],
   "source": [
    "for engine_unit in np.unique(ed.df_aux_test[\"unit\"]):\n",
    "    ## Test Block\n",
    "    print(\"========================================================================================\")\n",
    "    single_engine_test = ed.generate_data_frame_for_specific_engine(ed.df_x_s_test, engine_unit)\n",
    "    x_test, y_test = ed.generate_x_y_model_inputs(single_engine_test, window=window)\n",
    "\n",
    "    (y_pred, y_true, cm) = mark_001.test_model(x_test, y_test)\n",
    "    plot_util.generate_heat_map(cm)\n",
    "    cm.head()\n",
    "    plot_util.generate_predicted_vs_true_plot(y_true, y_pred, \"About To Fail\")\n",
    "    plot_util.generate_about_to_fail_graphs(y_true, y_pred)\n",
    "    print(\"========================================================================================\")"
   ]
  }
 ],
 "metadata": {
  "accelerator": "GPU",
  "colab": {
   "authorship_tag": "ABX9TyNabNbEccH+9iI6gD8tR0cu",
   "include_colab_link": true,
   "machine_shape": "hm",
   "provenance": [],
   "toc_visible": true
  },
  "gpuClass": "premium",
  "kernelspec": {
   "display_name": "Python 3",
   "language": "python",
   "name": "python3"
  },
  "language_info": {
   "name": "python",
   "version": "3.10.9 (tags/v3.10.9:1dd9be6, Dec  6 2022, 20:01:21) [MSC v.1934 64 bit (AMD64)]"
  },
  "vscode": {
   "interpreter": {
    "hash": "1be489e4256ebfa0a27a044897bf0efe441c8e767b49ff8728c46fcf16246479"
   }
  }
 },
 "nbformat": 4,
 "nbformat_minor": 0
}
