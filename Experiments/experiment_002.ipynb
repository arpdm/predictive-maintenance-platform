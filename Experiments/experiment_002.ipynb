{
  "nbformat": 4,
  "nbformat_minor": 0,
  "metadata": {
    "colab": {
      "provenance": [],
      "toc_visible": true,
      "machine_shape": "hm",
      "authorship_tag": "ABX9TyNabNbEccH+9iI6gD8tR0cu",
      "include_colab_link": true
    },
    "kernelspec": {
      "name": "python3",
      "display_name": "Python 3"
    },
    "language_info": {
      "name": "python"
    },
    "accelerator": "GPU",
    "gpuClass": "premium"
  },
  "cells": [
    {
      "cell_type": "markdown",
      "metadata": {
        "id": "view-in-github",
        "colab_type": "text"
      },
      "source": [
        "<a href=\"https://colab.research.google.com/github/arpdm/predictive-maintenance-platform/blob/main/Experiments/experiment_002.ipynb\" target=\"_parent\"><img src=\"https://colab.research.google.com/assets/colab-badge.svg\" alt=\"Open In Colab\"/></a>"
      ]
    },
    {
      "cell_type": "code",
      "execution_count": null,
      "metadata": {
        "id": "hAys0qQ8vUZG"
      },
      "outputs": [],
      "source": [
        "from google.colab import drive\n",
        "drive.mount(\"/content/drive/\")\n",
        "\n",
        "!cp drive/MyDrive/PdM/predictive-maintenance-platform/engine_data.py .\n",
        "!cp drive/MyDrive/PdM/predictive-maintenance-platform/plot_util.py .\n",
        "!cp drive/MyDrive/PdM/predictive-maintenance-platform/mark_001_model.py .\n",
        "!cp drive/MyDrive/PdM/predictive-maintenance-platform/pcoe_engine_data_visualizer.py ."
      ]
    },
    {
      "cell_type": "code",
      "source": [
        "pip install tensorflow-addons"
      ],
      "metadata": {
        "id": "WhmwJ8J-0V8o"
      },
      "execution_count": null,
      "outputs": []
    },
    {
      "cell_type": "code",
      "source": [
        "import tensorflow as tf\n",
        "import tensorflow_addons as tfa\n",
        "import pandas as pd\n",
        "import numpy as np\n",
        "\n",
        "from engine_data import EngineData\n",
        "from pcoe_engine_data_visualizer import PcoeEngingeVis\n",
        "from plot_util import PlotUtil\n",
        "from mark_001_model import Mark001Model"
      ],
      "metadata": {
        "id": "VF_2kJbqv13G"
      },
      "execution_count": 11,
      "outputs": []
    },
    {
      "cell_type": "code",
      "source": [
        "# Load all datasets\n",
        "BASE_PATH = \"/content/drive/MyDrive/PdM/data_set/\"\n",
        "\n",
        "DS_001 = BASE_PATH + \"N-CMAPSS_DS01-005.h5\"\n",
        "DS_002 = BASE_PATH + \"N-CMAPSS_DS02-006.h5\"\n",
        "DS_003 = BASE_PATH + \"N-CMAPSS_DS03-012.h5\"\n",
        "DS_004 = BASE_PATH + \"N-CMAPSS_DS04.h5\"\n",
        "DS_005 = BASE_PATH + \"N-CMAPSS_DS05.h5\"\n",
        "DS_006 = BASE_PATH + \"N-CMAPSS_DS06.h5\"\n",
        "DS_007 = BASE_PATH + \"N-CMAPSS_DS07.h5\"\n",
        "DS_008 = BASE_PATH + \"N-CMAPSS_DS08a-009.h5\"\n",
        "DS_009 = BASE_PATH + \"N-CMAPSS_DS08c-008.h5\"\n",
        "DS_010 = BASE_PATH + \"N-CMAPSS_DS08d-010.h5\""
      ],
      "metadata": {
        "id": "G_lAYq1Sv3-4"
      },
      "execution_count": 4,
      "outputs": []
    },
    {
      "cell_type": "code",
      "source": [
        "# Load data set and prepare data frames\n",
        "ed = EngineData()\n",
        "pcoe_enging_vis = PcoeEngingeVis(ed)\n",
        "plot_util = PlotUtil()\n",
        "mark_001 = Mark001Model()"
      ],
      "metadata": {
        "id": "WE785JcY5oFT"
      },
      "execution_count": null,
      "outputs": []
    },
    {
      "cell_type": "code",
      "source": [
        "# Dataset load block\n",
        "ed.load_hdf5_to_numpy_arr(DS_001)\n",
        "ed.df_x_s_train = ed.add_labels_to_dataset(ed.df_x_s_train)\n",
        "ed.df_x_s_train = ed.normalize_dataset(ed.df_x_s_train)\n",
        "ed.df_x_s_test = ed.add_labels_to_dataset(ed.df_x_s_test)\n",
        "ed.df_x_s_test = ed.normalize_dataset(ed.df_x_s_test)"
      ],
      "metadata": {
        "id": "ZgDX5l125q1Y"
      },
      "execution_count": null,
      "outputs": []
    },
    {
      "cell_type": "code",
      "source": [
        "ed.df_x_s_train.size()"
      ],
      "metadata": {
        "id": "GvM63h-BDQaB"
      },
      "execution_count": null,
      "outputs": []
    },
    {
      "cell_type": "markdown",
      "source": [
        "# Experiment 002\n",
        "\n",
        "In this experiment we are going to use Adam with Weight Decay. In the weight decay unlike L2 regularization that modifies the loss function, we modify the update step.\n",
        "\n",
        "https://arxiv.org/pdf/1711.05101.pdf\n"
      ],
      "metadata": {
        "id": "dbbMuNIj5zYa"
      }
    },
    {
      "cell_type": "code",
      "source": [
        "# Hyperparameters required for ADAMW Optimizer\n",
        "adamw_params ={\n",
        "  \"weight_decay\": 0.001,\n",
        "  \"learning_rate\": 1e-3,\n",
        "  \"beta_1\": 0.9,\n",
        "  \"beta_2\": 0.999,\n",
        "  \"epsilon\": 1e-8,\n",
        "}"
      ],
      "metadata": {
        "id": "KWE5e32C7-EK"
      },
      "execution_count": 20,
      "outputs": []
    },
    {
      "cell_type": "code",
      "source": [
        "# Model build block\n",
        "window = 50\n",
        "batch_size = 256\n",
        "epochs = 50\n",
        "steps = 100\n",
        "patience_epoch = 20\n",
        "data_path = \"/content/drive/MyDrive/PdM/model_generated_data\"\n",
        "\n",
        "features = ed.df_x_s_train.columns.drop([\"RUL\", \"label1\", \"label2\", \"cycle\", \"id\"]).size\n",
        "model_mark_001 = mark_001.create_binary_classifier_model(window, features, units_first_layer = 100, units_second_layer= 50, dropout_rate= 0.2, optimizer_hyperparams = adamw_params)"
      ],
      "metadata": {
        "id": "egJmonat5tPg"
      },
      "execution_count": null,
      "outputs": []
    },
    {
      "cell_type": "code",
      "source": [
        "for engine_unit in np.unique(ed.df_aux_train[\"unit\"]):\n",
        "    ## Training Block\n",
        "    single_engine_train = ed.generate_data_frame_for_specific_engine(ed.df_x_s_train, engine_unit)\n",
        "    x_train, y_train = ed.generate_x_y_model_inputs(single_engine_train, window=window)\n",
        "\n",
        "    mark_001_history = mark_001.fit_model(x_train, y_train, epochs, steps, batch_size, patience_epoch)\n",
        "    plot_util.generate_training_history_accuracy_and_loss_plot(mark_001_history, data_path)"
      ],
      "metadata": {
        "id": "WmBma7wX-Mjc"
      },
      "execution_count": null,
      "outputs": []
    },
    {
      "cell_type": "code",
      "source": [
        "for engine_unit in np.unique(ed.df_aux_test[\"unit\"]):\n",
        "    ## Test Block\n",
        "    print(\"========================================================================================\")\n",
        "    single_engine_test = ed.generate_data_frame_for_specific_engine(ed.df_x_s_test, engine_unit)\n",
        "    x_test, y_test = ed.generate_x_y_model_inputs(single_engine_test, window = window)\n",
        "\n",
        "    (y_pred,y_true, cm) = mark_001.test_model(x_test, y_test)\n",
        "    plot_util.generate_heat_map(cm)\n",
        "    cm.head()\n",
        "    plot_util.generate_predicted_vs_true_plot(y_true, y_pred, \"About To Fail\")\n",
        "    plot_util.generate_about_to_fail_graphs(y_true, y_pred)\n",
        "    print(\"========================================================================================\")"
      ],
      "metadata": {
        "id": "8yUjef50_i40"
      },
      "execution_count": null,
      "outputs": []
    }
  ]
}