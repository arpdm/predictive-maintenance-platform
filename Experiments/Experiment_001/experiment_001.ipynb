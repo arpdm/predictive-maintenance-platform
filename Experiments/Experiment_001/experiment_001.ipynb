{
  "cells": [
    {
      "cell_type": "markdown",
      "metadata": {
        "id": "view-in-github",
        "colab_type": "text"
      },
      "source": [
        "<a href=\"https://colab.research.google.com/github/arpdm/predictive-maintenance-platform/blob/main/Experiments/Experiment_001/experiment_001.ipynb\" target=\"_parent\"><img src=\"https://colab.research.google.com/assets/colab-badge.svg\" alt=\"Open In Colab\"/></a>"
      ]
    },
    {
      "cell_type": "code",
      "execution_count": 1,
      "metadata": {
        "colab": {
          "base_uri": "https://localhost:8080/"
        },
        "id": "2aF4sEtzEWaC",
        "outputId": "15bb0984-c5aa-48b8-a033-6e3151141350"
      },
      "outputs": [
        {
          "output_type": "stream",
          "name": "stdout",
          "text": [
            "Drive already mounted at /content/drive/; to attempt to forcibly remount, call drive.mount(\"/content/drive/\", force_remount=True).\n"
          ]
        }
      ],
      "source": [
        "from google.colab import drive\n",
        "drive.mount(\"/content/drive/\")\n",
        "\n",
        "!cp drive/MyDrive/PdM/predictive-maintenance-platform/engine_data.py .\n",
        "!cp drive/MyDrive/PdM/predictive-maintenance-platform/plot_util.py .\n",
        "!cp drive/MyDrive/PdM/predictive-maintenance-platform/mark_001_model.py .\n",
        "!cp drive/MyDrive/PdM/predictive-maintenance-platform/pcoe_engine_data_visualizer.py ."
      ]
    },
    {
      "cell_type": "code",
      "execution_count": 2,
      "metadata": {
        "id": "9al6a1exEuIC"
      },
      "outputs": [],
      "source": [
        "import tensorflow as tf\n",
        "import pandas as pd\n",
        "\n",
        "from engine_data import EngineData\n",
        "from pcoe_engine_data_visualizer import PcoeEngingeVis\n",
        "from plot_util import PlotUtil\n",
        "from mark_001_model import Mark001Model"
      ]
    },
    {
      "cell_type": "code",
      "execution_count": 3,
      "metadata": {
        "id": "D27R-TCwGwpO"
      },
      "outputs": [],
      "source": [
        "# Load all datasets\n",
        "BASE_PATH = \"/content/drive/MyDrive/PdM/data_set/\"\n",
        "\n",
        "DS_001 = BASE_PATH + \"N-CMAPSS_DS01-005.h5\"\n",
        "DS_002 = BASE_PATH + \"N-CMAPSS_DS02-006.h5\"\n",
        "DS_003 = BASE_PATH + \"N-CMAPSS_DS03-012.h5\"\n",
        "DS_004 = BASE_PATH + \"N-CMAPSS_DS04.h5\"\n",
        "DS_005 = BASE_PATH + \"N-CMAPSS_DS05.h5\"\n",
        "DS_006 = BASE_PATH + \"N-CMAPSS_DS06.h5\"\n",
        "DS_007 = BASE_PATH + \"N-CMAPSS_DS07.h5\"\n",
        "DS_008 = BASE_PATH + \"N-CMAPSS_DS08a-009.h5\"\n",
        "DS_009 = BASE_PATH + \"N-CMAPSS_DS08c-008.h5\"\n",
        "DS_010 = BASE_PATH + \"N-CMAPSS_DS08d-010.h5\""
      ]
    },
    {
      "cell_type": "code",
      "execution_count": 4,
      "metadata": {
        "id": "2THOIr3uG2Sl",
        "colab": {
          "base_uri": "https://localhost:8080/"
        },
        "outputId": "d3e46693-504e-4070-aab6-5efad30b0941"
      },
      "outputs": [
        {
          "output_type": "stream",
          "name": "stdout",
          "text": [
            "Process data for NASA's engines run-to-failure datasets\n",
            "Data analyzer and visualizer.\n",
            "Utility file for generic plotting and visualization\n",
            "Different PdM model collection to be tested.\n"
          ]
        }
      ],
      "source": [
        "# Load data set and prepare data frames\n",
        "ed = EngineData()\n",
        "pcoe_enging_vis = PcoeEngingeVis(ed)\n",
        "plot_util = PlotUtil()\n",
        "mark_001 = Mark001Model()"
      ]
    },
    {
      "cell_type": "code",
      "execution_count": null,
      "metadata": {
        "id": "2taTJ2QQJ4NL"
      },
      "outputs": [],
      "source": [
        "# Dataset load block\n",
        "ed.load_hdf5_to_numpy_arr(DS_002)\n",
        "ed.df_x_s_train = ed.add_labels_to_dataset(ed.df_x_s_train)\n",
        "ed.df_x_s_train = ed.normalize_dataset(ed.df_x_s_train)\n",
        "ed.df_x_s_test = ed.add_labels_to_dataset(ed.df_x_s_test)\n",
        "ed.df_x_s_test = ed.normalize_dataset(ed.df_x_s_test)"
      ]
    },
    {
      "cell_type": "code",
      "source": [
        "# Model build block\n",
        "window = 50\n",
        "batch_size = 256\n",
        "epochs = 40\n",
        "steps = 100\n",
        "patience_epoch = 10\n",
        "data_path = \"/content/drive/MyDrive/PdM/model_generated_data\"\n",
        "\n",
        "features = ed.df_x_s_train.columns.drop([\"RUL\", \"label1\", \"label2\", \"cycle\", \"id\"]).size\n",
        "model_mark_001 = mark_001.create_binary_classifier_model(window, features, units_first_layer = 100, units_second_layer= 50, dropout_rate= 0.2)"
      ],
      "metadata": {
        "id": "3WxzwjClWFDO"
      },
      "execution_count": null,
      "outputs": []
    },
    {
      "cell_type": "code",
      "source": [
        "pcoe_enging_vis.get_engine_units_in_dataset()"
      ],
      "metadata": {
        "id": "aWpY4AZxrzSl"
      },
      "execution_count": null,
      "outputs": []
    },
    {
      "cell_type": "code",
      "execution_count": null,
      "metadata": {
        "id": "m45mXqivL8K9"
      },
      "outputs": [],
      "source": [
        "## Training Block\n",
        "single_engine_train = ed.generate_data_frame_for_specific_engine(ed.df_x_s_train, 2)\n",
        "x_train, y_train = ed.generate_x_y_model_inputs(single_engine_train, window=window)\n",
        "\n",
        "mark_001_history = mark_001.fit_model(x_train, y_train, epochs, steps, batch_size, patience_epoch)\n",
        "plot_util.generate_training_history_accuracy_and_loss_plot(mark_001_history, data_path)"
      ]
    },
    {
      "cell_type": "code",
      "source": [
        "## Training Block\n",
        "single_engine_train = ed.generate_data_frame_for_specific_engine(ed.df_x_s_train, 5)\n",
        "x_train, y_train = ed.generate_x_y_model_inputs(single_engine_train, window=window)\n",
        "\n",
        "mark_001_history = mark_001.fit_model(x_train, y_train, epochs, steps, batch_size, patience_epoch)\n",
        "plot_util.generate_training_history_accuracy_and_loss_plot(mark_001_history, data_path)"
      ],
      "metadata": {
        "id": "YgspYlTkhc41"
      },
      "execution_count": null,
      "outputs": []
    },
    {
      "cell_type": "code",
      "source": [
        "## Training Block\n",
        "single_engine_train = ed.generate_data_frame_for_specific_engine(ed.df_x_s_train, 10)\n",
        "x_train, y_train = ed.generate_x_y_model_inputs(single_engine_train, window=window)\n",
        "\n",
        "mark_001_history = mark_001.fit_model(x_train, y_train, epochs, steps, batch_size, patience_epoch)\n",
        "plot_util.generate_training_history_accuracy_and_loss_plot(mark_001_history, data_path)"
      ],
      "metadata": {
        "id": "iiFQaMZOjGjS"
      },
      "execution_count": null,
      "outputs": []
    },
    {
      "cell_type": "code",
      "source": [
        "## Training Block\n",
        "single_engine_train = ed.generate_data_frame_for_specific_engine(ed.df_x_s_train, 16)\n",
        "x_train, y_train = ed.generate_x_y_model_inputs(single_engine_train, window=window)\n",
        "\n",
        "mark_001_history = mark_001.fit_model(x_train, y_train, epochs, steps, batch_size, patience_epoch)\n",
        "plot_util.generate_training_history_accuracy_and_loss_plot(mark_001_history, data_path)"
      ],
      "metadata": {
        "id": "aRgqV8SxlOJT"
      },
      "execution_count": null,
      "outputs": []
    },
    {
      "cell_type": "code",
      "source": [
        "## Training Block\n",
        "single_engine_train = ed.generate_data_frame_for_specific_engine(ed.df_x_s_train, 18)\n",
        "x_train, y_train = ed.generate_x_y_model_inputs(single_engine_train, window=window)\n",
        "\n",
        "mark_001_history = mark_001.fit_model(x_train, y_train, epochs, steps, batch_size, patience_epoch)\n",
        "plot_util.generate_training_history_accuracy_and_loss_plot(mark_001_history, data_path)"
      ],
      "metadata": {
        "id": "GPls-F9DmKxb"
      },
      "execution_count": null,
      "outputs": []
    },
    {
      "cell_type": "code",
      "source": [
        "## Training Block\n",
        "single_engine_train = ed.generate_data_frame_for_specific_engine(ed.df_x_s_train, 20)\n",
        "x_train, y_train = ed.generate_x_y_model_inputs(single_engine_train, window=window)\n",
        "\n",
        "mark_001_history = mark_001.fit_model(x_train, y_train, epochs, steps, batch_size, patience_epoch)\n",
        "plot_util.generate_training_history_accuracy_and_loss_plot(mark_001_history, data_path)"
      ],
      "metadata": {
        "id": "SaPgjofdm-Ae"
      },
      "execution_count": null,
      "outputs": []
    },
    {
      "cell_type": "code",
      "source": [
        "## Test Block\n",
        "single_engine_test = ed.generate_data_frame_for_specific_engine(ed.df_x_s_test, 15)\n",
        "x_test, y_test = ed.generate_x_y_model_inputs(single_engine_test, window = window)"
      ],
      "metadata": {
        "id": "L-q4z9jkJt5A"
      },
      "execution_count": 40,
      "outputs": []
    },
    {
      "cell_type": "code",
      "source": [
        "(y_pred,y_true, cm) = mark_001.test_model(x_test, y_test)\n",
        "plot_util.generate_heat_map(cm)\n",
        "cm.head()\n",
        "plot_util.generate_predicted_vs_true_plot(y_true, y_pred, \"About To Fail\")\n",
        "plot_util.generate_about_to_fail_graphs(y_true, y_pred)"
      ],
      "metadata": {
        "id": "9OkkL_y4h98V"
      },
      "execution_count": null,
      "outputs": []
    }
  ],
  "metadata": {
    "colab": {
      "provenance": [],
      "machine_shape": "hm",
      "toc_visible": true,
      "include_colab_link": true
    },
    "kernelspec": {
      "display_name": "Python 3.10.7 64-bit",
      "language": "python",
      "name": "python3"
    },
    "language_info": {
      "name": "python",
      "version": "3.10.7"
    },
    "orig_nbformat": 4,
    "vscode": {
      "interpreter": {
        "hash": "916dbcbb3f70747c44a77c7bcd40155683ae19c65e1c03b4aa3499c5328201f1"
      }
    },
    "accelerator": "GPU",
    "gpuClass": "premium"
  },
  "nbformat": 4,
  "nbformat_minor": 0
}