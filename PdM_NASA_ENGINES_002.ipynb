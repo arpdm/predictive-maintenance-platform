{
  "nbformat": 4,
  "nbformat_minor": 0,
  "metadata": {
    "colab": {
      "provenance": [],
      "collapsed_sections": [],
      "machine_shape": "hm",
      "authorship_tag": "ABX9TyPnhDVEPpWGId4Iehuy+Pth",
      "include_colab_link": true
    },
    "kernelspec": {
      "name": "python3",
      "display_name": "Python 3"
    },
    "language_info": {
      "name": "python"
    },
    "accelerator": "GPU",
    "gpuClass": "standard"
  },
  "cells": [
    {
      "cell_type": "markdown",
      "metadata": {
        "id": "view-in-github",
        "colab_type": "text"
      },
      "source": [
        "<a href=\"https://colab.research.google.com/github/arpdm/predictive-maintenance-platform/blob/main/PdM_NASA_ENGINES_002.ipynb\" target=\"_parent\"><img src=\"https://colab.research.google.com/assets/colab-badge.svg\" alt=\"Open In Colab\"/></a>"
      ]
    },
    {
      "cell_type": "code",
      "execution_count": 1,
      "metadata": {
        "id": "j8bafw4Rj3pV",
        "colab": {
          "base_uri": "https://localhost:8080/"
        },
        "outputId": "59cbbe43-4916-4a90-f4fb-320fa74b7938"
      },
      "outputs": [
        {
          "output_type": "stream",
          "name": "stdout",
          "text": [
            "Drive already mounted at /content/drive; to attempt to forcibly remount, call drive.mount(\"/content/drive\", force_remount=True).\n"
          ]
        }
      ],
      "source": [
        "# Colab data file preparation\n",
        "from google.colab import drive\n",
        "\n",
        "drive.mount(\"/content/drive\")\n",
        "\n",
        "!cp drive/MyDrive/Predictive_Maintenence_Fault_Detection/predictive-maintenance-platform/data_processor.py .\n",
        "!cp drive/MyDrive/Predictive_Maintenence_Fault_Detection/predictive-maintenance-platform/visualizer_analyzer.py ."
      ]
    },
    {
      "cell_type": "code",
      "source": [
        "from data_processor import DataProcessor\n",
        "from visualizer_analyzer import DataAV\n",
        "\n",
        "import tensorflow as tf\n",
        "\n",
        "# Load all datasets\n",
        "DS_001 = \"/content/drive/MyDrive/Predictive_Maintenence_Fault_Detection/data_set/N-CMAPSS_DS01-005.h5\"\n",
        "DS_002 = \"/content/drive/MyDrive/Predictive_Maintenence_Fault_Detection/data_set/N-CMAPSS_DS02-006.h5\"\n",
        "DS_003 = \"/content/drive/MyDrive/Predictive_Maintenence_Fault_Detection/data_set/N-CMAPSS_DS03-012.h5\"\n",
        "DS_004 = \"/content/drive/MyDrive/Predictive_Maintenence_Fault_Detection/data_set/N-CMAPSS_DS04.h5\"\n",
        "DS_005 = \"/content/drive/MyDrive/Predictive_Maintenence_Fault_Detection/data_set/N-CMAPSS_DS05.h5\"\n",
        "DS_006 = \"/content/drive/MyDrive/Predictive_Maintenence_Fault_Detection/data_set/N-CMAPSS_DS06.h5\"\n",
        "DS_007 = \"/content/drive/MyDrive/Predictive_Maintenence_Fault_Detection/data_set/N-CMAPSS_DS07.h5\"\n",
        "DS_008 = \"/content/drive/MyDrive/Predictive_Maintenence_Fault_Detection/data_set/N-CMAPSS_DS08a-009.h5\"\n",
        "DS_009 = \"/content/drive/MyDrive/Predictive_Maintenence_Fault_Detection/data_set/N-CMAPSS_DS08c-008.h5\"\n",
        "DS_010 = \"/content/drive/MyDrive/Predictive_Maintenence_Fault_Detection/data_set/N-CMAPSS_DS08d-010.h5\""
      ],
      "metadata": {
        "id": "n9e7BiPAGNak"
      },
      "execution_count": 2,
      "outputs": []
    },
    {
      "cell_type": "code",
      "source": [
        "# Load data set and prepare data frames\n",
        "pros = DataProcessor()\n",
        "pros.load_hdf5_to_numpy_arr(DS_004)"
      ],
      "metadata": {
        "colab": {
          "base_uri": "https://localhost:8080/"
        },
        "id": "tLuHVze0GSuI",
        "outputId": "94c108c7-2d3b-4cc2-d467-f4f6d41096f0"
      },
      "execution_count": 3,
      "outputs": [
        {
          "output_type": "stream",
          "name": "stdout",
          "text": [
            "Process data for NASA's engines run-to-failure datasets\n",
            "Operation time (sec):  7.817488355\n"
          ]
        }
      ]
    },
    {
      "cell_type": "code",
      "source": [
        "# Prepare Data Frames\n",
        "\n",
        "import pandas as pd\n",
        "import seaborn as sns\n",
        "import matplotlib.pyplot as plt\n",
        "\n",
        "df_rul_train = pd.DataFrame(data=pros.y_rul_dev, columns=[\"RUL\"])\n",
        "df_rul_test = pd.DataFrame(data=pros.y_rul_test, columns=[\"RUL\"])\n",
        "df_x_s_train = pd.DataFrame(data=pros.x_s_dev, columns=pros.x_s_var_names)\n",
        "df_x_s_test = pd.DataFrame(data=pros.x_s_test, columns=pros.x_s_var_names)\n",
        "df_x_v_train = pd.DataFrame(data=pros.x_v_dev, columns=pros.x_v_var_names)\n",
        "df_x_v_test = pd.DataFrame(data=pros.x_v_test, columns=pros.x_v_var_names)\n",
        "df_aux_test = pd.DataFrame(data=pros.aux_test, columns=pros.aux_var_names)\n",
        "df_aux_train = pd.DataFrame(data=pros.aux_dev, columns=pros.aux_var_names)\n",
        "df_w_test = pd.DataFrame(data=pros.w_test, columns=pros.w_var_names)\n",
        "df_w_train = pd.DataFrame(data=pros.w_dev, columns=pros.w_var_names)\n"
      ],
      "metadata": {
        "id": "5YKwMfhmIjeY"
      },
      "execution_count": 4,
      "outputs": []
    },
    {
      "cell_type": "code",
      "source": [
        "df_x_s_train"
      ],
      "metadata": {
        "id": "3_T91c0WVKWv"
      },
      "execution_count": null,
      "outputs": []
    },
    {
      "cell_type": "code",
      "source": [
        "df_x_s_train[\"cycle\"] = df_aux_train[\"cycle\"].values\n",
        "df_x_s_train[\"RUL_TRUTH\"] = df_rul_train.values\n",
        "df_x_s_train[\"id\"] = df_aux_train[\"unit\"].values\n",
        "\n",
        "# df_x_s_test[\"cycle\"] = df_aux_test[\"cycle\"].values\n",
        "# df_x_s_test[\"RUL_TRUTH\"] = df_rul_test.values\n",
        "# df_x_s_test[\"id\"] = df_aux_test[\"unit\"].values\n",
        "\n",
        "# df_x_s_train = df_x_s_train.drop(columns=['P15'])\n",
        "\n",
        "df_x_v_train[\"cycle\"] = df_aux_train[\"cycle\"].values\n",
        "# df_x_v_train[\"RUL\"] = df_rul_train.values\n",
        "\n",
        "df_w_train[\"cycle\"] = df_aux_train[\"cycle\"].values\n",
        "# df_w_train[\"RUL\"] = df_rul_train.values"
      ],
      "metadata": {
        "id": "m4c59QRfSrAM"
      },
      "execution_count": 7,
      "outputs": []
    },
    {
      "cell_type": "code",
      "source": [
        "# Generate heatmap to figure out correlations between features and the RUL\n",
        "# This helps to determine which features to drop and which features to keep\n",
        "sns.heatmap(df_x_s_train.corr(),annot=True,cmap='RdYlGn',linewidths=0.2)\n",
        "fig=plt.gcf()\n",
        "fig.set_size_inches(20,20)\n",
        "plt.show()"
      ],
      "metadata": {
        "id": "cRjpYbBPKD_6"
      },
      "execution_count": null,
      "outputs": []
    },
    {
      "cell_type": "code",
      "source": [
        "# Generate heatmap to figure out correlations between features and the RUL\n",
        "# This helps to determine which features to drop and which features to keep\n",
        "sns.heatmap(df_x_v_train.corr(),annot=True,cmap='RdYlGn',linewidths=0.2)\n",
        "fig=plt.gcf()\n",
        "fig.set_size_inches(20,20)\n",
        "plt.show()"
      ],
      "metadata": {
        "id": "ZpB_HWn0SLoK"
      },
      "execution_count": null,
      "outputs": []
    },
    {
      "cell_type": "code",
      "source": [
        "# Generate heatmap to figure out correlations between features and the RUL\n",
        "# This helps to determine which features to drop and which features to keep\n",
        "sns.heatmap(df_w_train.corr(),annot=True,cmap='RdYlGn',linewidths=0.2)\n",
        "fig=plt.gcf()\n",
        "fig.set_size_inches(20,20)\n",
        "plt.show()"
      ],
      "metadata": {
        "id": "Lerlc3XQSzEl"
      },
      "execution_count": null,
      "outputs": []
    },
    {
      "cell_type": "code",
      "source": [
        "df_x_s_train = df_x_s_train.sort_values(['id','cycle'])\n",
        "df_x_s_train"
      ],
      "metadata": {
        "id": "0IjzMvN3UyCh"
      },
      "execution_count": null,
      "outputs": []
    },
    {
      "cell_type": "code",
      "source": [
        "# Data Labeling - generate column RUL\n",
        "rul = pd.DataFrame(df_x_s_train.groupby('id')['cycle'].max()).reset_index()\n",
        "rul.columns = ['id', 'max']\n",
        "df_x_s_train = df_x_s_train.merge(rul, on=['id'], how='left')\n",
        "df_x_s_train['RUL'] = df_x_s_train['max'] - df_x_s_train['cycle']\n",
        "df_x_s_train.drop('max', axis=1, inplace=True)\n",
        "df_x_s_train.head()"
      ],
      "metadata": {
        "id": "it084sM1VmJc"
      },
      "execution_count": null,
      "outputs": []
    },
    {
      "cell_type": "code",
      "source": [
        "df_x_s_train"
      ],
      "metadata": {
        "id": "HfLz4QZoXJoQ"
      },
      "execution_count": null,
      "outputs": []
    },
    {
      "cell_type": "code",
      "source": [
        "# Generate heatmap to figure out correlations between features and the RUL\n",
        "# This helps to determine which features to drop and which features to keep\n",
        "sns.heatmap(df_x_s_train.corr(),annot=True,cmap='RdYlGn',linewidths=0.2)\n",
        "fig=plt.gcf()\n",
        "fig.set_size_inches(20,20)\n",
        "plt.show()"
      ],
      "metadata": {
        "id": "J9nBvS89aTr0"
      },
      "execution_count": null,
      "outputs": []
    },
    {
      "cell_type": "code",
      "source": [
        "#Here, we will only make use of \"label1\" for binary clasification, while trying to answer the question: is a specific engine going to fail within w1 cycles?\n",
        "# generate label columns for training data\n",
        "import numpy as np\n",
        "\n",
        "w1 = 30\n",
        "w0 = 15\n",
        "df_x_s_train['label1'] = np.where(df_x_s_train['RUL'] <= w1, 1, 0 )\n",
        "df_x_s_train['label2'] = df_x_s_train['label1']\n",
        "df_x_s_train.loc[df_x_s_train['RUL'] <= w0, 'label2'] = 2\n",
        "df_x_s_train.head()"
      ],
      "metadata": {
        "id": "HP4sP40tamLM"
      },
      "execution_count": null,
      "outputs": []
    },
    {
      "cell_type": "code",
      "source": [
        "# Normalize Data\n",
        "# In the Predictive Maintenance Template , cycle column is also used for training so we will also include the cycle column. Here, we normalize the columns in the training data.\n",
        "# MinMax normalization\n",
        "from sklearn import preprocessing\n",
        "\n",
        "df_x_s_train['cycle_norm'] = df_x_s_train['cycle']\n",
        "cols_normalize = df_x_s_train.columns.difference(['id','cycle','RUL','label1','label2','RUL_TRUTH'])\n",
        "min_max_scaler = preprocessing.MinMaxScaler()\n",
        "norm_train_df = pd.DataFrame(min_max_scaler.fit_transform(df_x_s_train[cols_normalize]), \n",
        "                             columns=cols_normalize, \n",
        "                             index=df_x_s_train.index)\n",
        "join_df = df_x_s_train[df_x_s_train.columns.difference(cols_normalize)].join(norm_train_df)\n",
        "df_x_s_train = join_df.reindex(columns = df_x_s_train.columns)\n",
        "df_x_s_train.head()"
      ],
      "metadata": {
        "id": "SroJXjKmbmhM"
      },
      "execution_count": null,
      "outputs": []
    },
    {
      "cell_type": "code",
      "source": [
        "## prepare test data\n",
        "#  generate label columns w0 and w1 for test data\n",
        "df_x_s_test[\"cycle\"] = df_aux_test[\"cycle\"].values\n",
        "df_x_s_test[\"RUL\"] = df_rul_test.values\n",
        "df_x_s_test[\"id\"] = df_aux_test[\"unit\"].values\n",
        "\n",
        "df_x_s_test['label1'] = np.where(df_x_s_test['RUL'] <= w1, 1, 0 )\n",
        "df_x_s_test['label2'] = df_x_s_test['label1']\n",
        "df_x_s_test.loc[df_x_s_test['RUL'] <= w0, 'label2'] = 2\n",
        "df_x_s_test.head()"
      ],
      "metadata": {
        "colab": {
          "base_uri": "https://localhost:8080/",
          "height": 206
        },
        "id": "H1NFJx2Fdai6",
        "outputId": "461ccf49-04ff-4eaa-ca85-603b4e1edd56"
      },
      "execution_count": 18,
      "outputs": [
        {
          "output_type": "execute_result",
          "data": {
            "text/plain": [
              "          T24          T30          T48          T50        P15         P2  \\\n",
              "0  620.506639  1488.080832  1886.473168  1287.156838  19.372008  14.154111   \n",
              "1  620.478004  1487.467210  1885.286698  1288.280169  19.363287  14.156930   \n",
              "2  619.526099  1487.808291  1884.016137  1287.319699  19.350864  14.150683   \n",
              "3  620.244129  1488.433841  1885.296970  1288.064834  19.348055  14.150770   \n",
              "4  619.971242  1487.979131  1885.384862  1286.838059  19.345743  14.153215   \n",
              "\n",
              "         P21        P24        Ps30         P40        P50           Nf  \\\n",
              "0  19.676307  24.547359  409.284230  415.810164  16.163146  2188.171877   \n",
              "1  19.664207  24.537576  408.996413  415.692275  16.159712  2187.423272   \n",
              "2  19.643745  24.533771  408.775613  415.401764  16.158847  2188.468300   \n",
              "3  19.653264  24.530714  408.948377  415.447424  16.155031  2186.216852   \n",
              "4  19.638651  24.540065  408.531735  415.402249  16.152368  2187.986398   \n",
              "\n",
              "            Nc        Wf  cycle  RUL   id  label1  label2  \n",
              "0  8751.322228  4.890535    1.0   86  7.0       0       0  \n",
              "1  8743.692986  4.888862    1.0   86  7.0       0       0  \n",
              "2  8753.865949  4.884320    1.0   86  7.0       0       0  \n",
              "3  8750.814968  4.886681    1.0   86  7.0       0       0  \n",
              "4  8745.387650  4.884689    1.0   86  7.0       0       0  "
            ],
            "text/html": [
              "\n",
              "  <div id=\"df-07a40185-a1cc-497a-ad17-5d1c22c81b6a\">\n",
              "    <div class=\"colab-df-container\">\n",
              "      <div>\n",
              "<style scoped>\n",
              "    .dataframe tbody tr th:only-of-type {\n",
              "        vertical-align: middle;\n",
              "    }\n",
              "\n",
              "    .dataframe tbody tr th {\n",
              "        vertical-align: top;\n",
              "    }\n",
              "\n",
              "    .dataframe thead th {\n",
              "        text-align: right;\n",
              "    }\n",
              "</style>\n",
              "<table border=\"1\" class=\"dataframe\">\n",
              "  <thead>\n",
              "    <tr style=\"text-align: right;\">\n",
              "      <th></th>\n",
              "      <th>T24</th>\n",
              "      <th>T30</th>\n",
              "      <th>T48</th>\n",
              "      <th>T50</th>\n",
              "      <th>P15</th>\n",
              "      <th>P2</th>\n",
              "      <th>P21</th>\n",
              "      <th>P24</th>\n",
              "      <th>Ps30</th>\n",
              "      <th>P40</th>\n",
              "      <th>P50</th>\n",
              "      <th>Nf</th>\n",
              "      <th>Nc</th>\n",
              "      <th>Wf</th>\n",
              "      <th>cycle</th>\n",
              "      <th>RUL</th>\n",
              "      <th>id</th>\n",
              "      <th>label1</th>\n",
              "      <th>label2</th>\n",
              "    </tr>\n",
              "  </thead>\n",
              "  <tbody>\n",
              "    <tr>\n",
              "      <th>0</th>\n",
              "      <td>620.506639</td>\n",
              "      <td>1488.080832</td>\n",
              "      <td>1886.473168</td>\n",
              "      <td>1287.156838</td>\n",
              "      <td>19.372008</td>\n",
              "      <td>14.154111</td>\n",
              "      <td>19.676307</td>\n",
              "      <td>24.547359</td>\n",
              "      <td>409.284230</td>\n",
              "      <td>415.810164</td>\n",
              "      <td>16.163146</td>\n",
              "      <td>2188.171877</td>\n",
              "      <td>8751.322228</td>\n",
              "      <td>4.890535</td>\n",
              "      <td>1.0</td>\n",
              "      <td>86</td>\n",
              "      <td>7.0</td>\n",
              "      <td>0</td>\n",
              "      <td>0</td>\n",
              "    </tr>\n",
              "    <tr>\n",
              "      <th>1</th>\n",
              "      <td>620.478004</td>\n",
              "      <td>1487.467210</td>\n",
              "      <td>1885.286698</td>\n",
              "      <td>1288.280169</td>\n",
              "      <td>19.363287</td>\n",
              "      <td>14.156930</td>\n",
              "      <td>19.664207</td>\n",
              "      <td>24.537576</td>\n",
              "      <td>408.996413</td>\n",
              "      <td>415.692275</td>\n",
              "      <td>16.159712</td>\n",
              "      <td>2187.423272</td>\n",
              "      <td>8743.692986</td>\n",
              "      <td>4.888862</td>\n",
              "      <td>1.0</td>\n",
              "      <td>86</td>\n",
              "      <td>7.0</td>\n",
              "      <td>0</td>\n",
              "      <td>0</td>\n",
              "    </tr>\n",
              "    <tr>\n",
              "      <th>2</th>\n",
              "      <td>619.526099</td>\n",
              "      <td>1487.808291</td>\n",
              "      <td>1884.016137</td>\n",
              "      <td>1287.319699</td>\n",
              "      <td>19.350864</td>\n",
              "      <td>14.150683</td>\n",
              "      <td>19.643745</td>\n",
              "      <td>24.533771</td>\n",
              "      <td>408.775613</td>\n",
              "      <td>415.401764</td>\n",
              "      <td>16.158847</td>\n",
              "      <td>2188.468300</td>\n",
              "      <td>8753.865949</td>\n",
              "      <td>4.884320</td>\n",
              "      <td>1.0</td>\n",
              "      <td>86</td>\n",
              "      <td>7.0</td>\n",
              "      <td>0</td>\n",
              "      <td>0</td>\n",
              "    </tr>\n",
              "    <tr>\n",
              "      <th>3</th>\n",
              "      <td>620.244129</td>\n",
              "      <td>1488.433841</td>\n",
              "      <td>1885.296970</td>\n",
              "      <td>1288.064834</td>\n",
              "      <td>19.348055</td>\n",
              "      <td>14.150770</td>\n",
              "      <td>19.653264</td>\n",
              "      <td>24.530714</td>\n",
              "      <td>408.948377</td>\n",
              "      <td>415.447424</td>\n",
              "      <td>16.155031</td>\n",
              "      <td>2186.216852</td>\n",
              "      <td>8750.814968</td>\n",
              "      <td>4.886681</td>\n",
              "      <td>1.0</td>\n",
              "      <td>86</td>\n",
              "      <td>7.0</td>\n",
              "      <td>0</td>\n",
              "      <td>0</td>\n",
              "    </tr>\n",
              "    <tr>\n",
              "      <th>4</th>\n",
              "      <td>619.971242</td>\n",
              "      <td>1487.979131</td>\n",
              "      <td>1885.384862</td>\n",
              "      <td>1286.838059</td>\n",
              "      <td>19.345743</td>\n",
              "      <td>14.153215</td>\n",
              "      <td>19.638651</td>\n",
              "      <td>24.540065</td>\n",
              "      <td>408.531735</td>\n",
              "      <td>415.402249</td>\n",
              "      <td>16.152368</td>\n",
              "      <td>2187.986398</td>\n",
              "      <td>8745.387650</td>\n",
              "      <td>4.884689</td>\n",
              "      <td>1.0</td>\n",
              "      <td>86</td>\n",
              "      <td>7.0</td>\n",
              "      <td>0</td>\n",
              "      <td>0</td>\n",
              "    </tr>\n",
              "  </tbody>\n",
              "</table>\n",
              "</div>\n",
              "      <button class=\"colab-df-convert\" onclick=\"convertToInteractive('df-07a40185-a1cc-497a-ad17-5d1c22c81b6a')\"\n",
              "              title=\"Convert this dataframe to an interactive table.\"\n",
              "              style=\"display:none;\">\n",
              "        \n",
              "  <svg xmlns=\"http://www.w3.org/2000/svg\" height=\"24px\"viewBox=\"0 0 24 24\"\n",
              "       width=\"24px\">\n",
              "    <path d=\"M0 0h24v24H0V0z\" fill=\"none\"/>\n",
              "    <path d=\"M18.56 5.44l.94 2.06.94-2.06 2.06-.94-2.06-.94-.94-2.06-.94 2.06-2.06.94zm-11 1L8.5 8.5l.94-2.06 2.06-.94-2.06-.94L8.5 2.5l-.94 2.06-2.06.94zm10 10l.94 2.06.94-2.06 2.06-.94-2.06-.94-.94-2.06-.94 2.06-2.06.94z\"/><path d=\"M17.41 7.96l-1.37-1.37c-.4-.4-.92-.59-1.43-.59-.52 0-1.04.2-1.43.59L10.3 9.45l-7.72 7.72c-.78.78-.78 2.05 0 2.83L4 21.41c.39.39.9.59 1.41.59.51 0 1.02-.2 1.41-.59l7.78-7.78 2.81-2.81c.8-.78.8-2.07 0-2.86zM5.41 20L4 18.59l7.72-7.72 1.47 1.35L5.41 20z\"/>\n",
              "  </svg>\n",
              "      </button>\n",
              "      \n",
              "  <style>\n",
              "    .colab-df-container {\n",
              "      display:flex;\n",
              "      flex-wrap:wrap;\n",
              "      gap: 12px;\n",
              "    }\n",
              "\n",
              "    .colab-df-convert {\n",
              "      background-color: #E8F0FE;\n",
              "      border: none;\n",
              "      border-radius: 50%;\n",
              "      cursor: pointer;\n",
              "      display: none;\n",
              "      fill: #1967D2;\n",
              "      height: 32px;\n",
              "      padding: 0 0 0 0;\n",
              "      width: 32px;\n",
              "    }\n",
              "\n",
              "    .colab-df-convert:hover {\n",
              "      background-color: #E2EBFA;\n",
              "      box-shadow: 0px 1px 2px rgba(60, 64, 67, 0.3), 0px 1px 3px 1px rgba(60, 64, 67, 0.15);\n",
              "      fill: #174EA6;\n",
              "    }\n",
              "\n",
              "    [theme=dark] .colab-df-convert {\n",
              "      background-color: #3B4455;\n",
              "      fill: #D2E3FC;\n",
              "    }\n",
              "\n",
              "    [theme=dark] .colab-df-convert:hover {\n",
              "      background-color: #434B5C;\n",
              "      box-shadow: 0px 1px 3px 1px rgba(0, 0, 0, 0.15);\n",
              "      filter: drop-shadow(0px 1px 2px rgba(0, 0, 0, 0.3));\n",
              "      fill: #FFFFFF;\n",
              "    }\n",
              "  </style>\n",
              "\n",
              "      <script>\n",
              "        const buttonEl =\n",
              "          document.querySelector('#df-07a40185-a1cc-497a-ad17-5d1c22c81b6a button.colab-df-convert');\n",
              "        buttonEl.style.display =\n",
              "          google.colab.kernel.accessAllowed ? 'block' : 'none';\n",
              "\n",
              "        async function convertToInteractive(key) {\n",
              "          const element = document.querySelector('#df-07a40185-a1cc-497a-ad17-5d1c22c81b6a');\n",
              "          const dataTable =\n",
              "            await google.colab.kernel.invokeFunction('convertToInteractive',\n",
              "                                                     [key], {});\n",
              "          if (!dataTable) return;\n",
              "\n",
              "          const docLinkHtml = 'Like what you see? Visit the ' +\n",
              "            '<a target=\"_blank\" href=https://colab.research.google.com/notebooks/data_table.ipynb>data table notebook</a>'\n",
              "            + ' to learn more about interactive tables.';\n",
              "          element.innerHTML = '';\n",
              "          dataTable['output_type'] = 'display_data';\n",
              "          await google.colab.output.renderOutput(dataTable, element);\n",
              "          const docLink = document.createElement('div');\n",
              "          docLink.innerHTML = docLinkHtml;\n",
              "          element.appendChild(docLink);\n",
              "        }\n",
              "      </script>\n",
              "    </div>\n",
              "  </div>\n",
              "  "
            ]
          },
          "metadata": {},
          "execution_count": 18
        }
      ]
    },
    {
      "cell_type": "markdown",
      "source": [
        "# Modeling"
      ],
      "metadata": {
        "id": "xzVp_8WsiCvD"
      }
    },
    {
      "cell_type": "markdown",
      "source": [
        "The traditional predictive maintenance machine learning models are based on feature engineering which is manual construction of right features using domain expertise and similar methods. This usually makes these models hard to reuse since feature engineering is specific to the problem scenario and the available data which varies from one business to the other. Perhaps the most attractive part of applying deep learning in the predictive maintenance domain is the fact that these networks can automatically extract the right features from the data, eliminating the need for manual feature engineering.\n",
        "\n",
        "he idea of using LSTMs is to let the model extract abstract features out of the sequence of sensor values in the window rather than engineering those manually. The expectation is that if there is a pattern in these sensor values within the window prior to failure, the pattern should be encoded by the LSTM.\n",
        "\n",
        "One critical advantage of LSTMs is their ability to remember from long-term sequences (window sizes) which is hard to achieve by traditional feature engineering. For example, computing rolling averages over a window size of 50 cycles may lead to loss of information due to smoothing and abstracting of values over such a long period, instead, using all 50 values as input may provide better results. While feature engineering over large window sizes may not make sense, LSTMs are able to use larger window sizes and use all the information in the window as input. \n",
        "LSTM also has this long term memory over regular RNN architectecture."
      ],
      "metadata": {
        "id": "P2VRV13hiGLa"
      }
    },
    {
      "cell_type": "code",
      "source": [
        "df_x_s_test.columns"
      ],
      "metadata": {
        "id": "EtB0KVWLjc3P"
      },
      "execution_count": null,
      "outputs": []
    },
    {
      "cell_type": "code",
      "source": [
        "\"\"\"\n",
        "Genearate the tf dataset with proper dimensionality and shape given input parameters.\n",
        "This dataset will split into training and validation subsets.\n",
        "\"\"\"\n",
        "\n",
        "window = 50\n",
        "horizon = 1\n",
        "train_split = 6377452\n",
        "batch_size = 256\n",
        "buffer_size = 150\n",
        "\n",
        "# Let's first look at an example of the sensor values 50 cycles prior to the failure for engine id 3. \n",
        "# We will be feeding LSTM network this type of data for each time step for each engine id.\n",
        "\n",
        "# preparing data for visualizations \n",
        "# window of 50 cycles prior to a failure point for engine id 3\n",
        "engine_id3 = df_x_s_train[df_x_s_train['id'] == 3]\n",
        "engine_id3_50cycleWindow = engine_id3[engine_id3['RUL'] <= engine_id3['RUL'].min() + window]\n",
        "\n",
        "# cols1 = ['T24', 'T30', 'T48', 'T50', 'P15', 'P2', 'P21', 'P24', 's9', 's10']\n",
        "# engine_id3_50cycleWindow1 = engine_id3_50cycleWindow[cols1]\n",
        "# cols2 = ['s11', 's12', 's13', 's14', 's15', 's16', 's17', 's18', 's19', 's20', 's21']\n",
        "# engine_id3_50cycleWindow2 = engine_id3_50cycleWindow[cols2]\n",
        "\n",
        "ax1 = engine_id3_50cycleWindow.plot(subplots=True, sharex=True, figsize=(40,40))"
      ],
      "metadata": {
        "id": "8ZS4-j-WiG7R"
      },
      "execution_count": null,
      "outputs": []
    },
    {
      "cell_type": "markdown",
      "source": [
        "## Data Sequence Generation for Model"
      ],
      "metadata": {
        "id": "pHxU7hnWkrgL"
      }
    },
    {
      "cell_type": "markdown",
      "source": [
        "Keras LSTM layers expect an input in the shape of a numpy array of 3 dimensions (samples, time steps, features) where samples is the number of training sequences, time steps is the look back window or sequence length and features is the number of features of each sequence at each time step.\n"
      ],
      "metadata": {
        "id": "Dq3S9cM8kxuu"
      }
    },
    {
      "cell_type": "code",
      "source": [
        "# function to reshape features into (samples, time steps, features) \n",
        "def gen_sequence(id_df, seq_length, seq_cols):\n",
        "    \"\"\" Only sequences that meet the window-length are considered, no padding is used. This means for testing\n",
        "    we need to drop those which are below the window-length. An alternative would be to pad sequences so that\n",
        "    we can use shorter ones \"\"\"\n",
        "    data_array = id_df[id_df.columns].values\n",
        "    num_elements = data_array.shape[0]\n",
        "    for start, stop in zip(range(0, num_elements-seq_length), range(seq_length, num_elements)):\n",
        "        yield data_array[start:stop, :]"
      ],
      "metadata": {
        "id": "frqFeTHGk0dN"
      },
      "execution_count": 28,
      "outputs": []
    },
    {
      "cell_type": "code",
      "source": [
        "# generator for the sequences\n",
        "id = 3\n",
        "seq_gen = (list(gen_sequence(df_x_s_train[df_x_s_train['id']==id],  50, df_x_s_train.columns))\n",
        "           for id in df_x_s_train['id'].unique())"
      ],
      "metadata": {
        "id": "gzS_SDUPmZIY"
      },
      "execution_count": 31,
      "outputs": []
    },
    {
      "cell_type": "code",
      "source": [
        "seq_gen"
      ],
      "metadata": {
        "id": "C43A-WpanlvL",
        "outputId": "e695b1fe-0339-4af1-c1d9-caed651e4abb",
        "colab": {
          "base_uri": "https://localhost:8080/"
        }
      },
      "execution_count": 32,
      "outputs": [
        {
          "output_type": "execute_result",
          "data": {
            "text/plain": [
              "<generator object <genexpr> at 0x7f5580a6af50>"
            ]
          },
          "metadata": {},
          "execution_count": 32
        }
      ]
    },
    {
      "cell_type": "code",
      "source": [
        "# generate sequences and convert to numpy array\n",
        "seq_array = np.concatenate(list(seq_gen)).astype(np.float32)\n",
        "seq_array.shape"
      ],
      "metadata": {
        "id": "yEDB11JKnoAv"
      },
      "execution_count": null,
      "outputs": []
    }
  ]
}