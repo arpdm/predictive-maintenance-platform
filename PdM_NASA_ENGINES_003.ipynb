{
 "cells": [
  {
   "cell_type": "code",
   "execution_count": null,
   "metadata": {},
   "outputs": [],
   "source": [
    "\"\"\"\n",
    "    Project Name: PdM Model for NASA Jet Engines\n",
    "    Data: 10/9/2022\n",
    "    Author: Arpi Derm\n",
    "    Description: This model aims to use PdM model and RUL to predict failures in point time T in near future.\n",
    "                 This specific model is built and trained for the NASA's PCoE Turbofan Engine Degradation (Run-To-Failure) dataset.\n",
    "    Dataset Description: \n",
    "                Dataset description along with its variable can be found in the dataset paper writtent by \n",
    "                Manuel Arias Chao,Chetan Kulkarni, Kai Goebel and Olga Fink. https://dx.doi.org/10.3390/data6010005\n",
    "    Variable Name Descriptions:\n",
    "            w = Scenario-descriptor operating conditions (inputs to system model)\n",
    "            x_s = sensor signal measurements (physical properties)\n",
    "            x_v = virtual sensor signals\n",
    "            t = engine health parameters \n",
    "            y_rul = target output Y - RUL (Remaning Useful Life) of engine unit\n",
    "            aux = Auxiliaryl data such as cycle count, unit id, ...\n",
    "\"\"\""
   ]
  }
 ],
 "metadata": {
  "kernelspec": {
   "display_name": "Python 3.10.7 64-bit",
   "language": "python",
   "name": "python3"
  },
  "language_info": {
   "name": "python",
   "version": "3.10.7"
  },
  "orig_nbformat": 4,
  "vscode": {
   "interpreter": {
    "hash": "916dbcbb3f70747c44a77c7bcd40155683ae19c65e1c03b4aa3499c5328201f1"
   }
  }
 },
 "nbformat": 4,
 "nbformat_minor": 2
}
