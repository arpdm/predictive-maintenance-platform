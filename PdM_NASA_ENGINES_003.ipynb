{
  "cells": [
    {
      "cell_type": "markdown",
      "metadata": {
        "colab_type": "text",
        "id": "view-in-github"
      },
      "source": [
        "<a href=\"https://colab.research.google.com/github/arpdm/predictive-maintenance-platform/blob/main/PdM_NASA_ENGINES_003.ipynb\" target=\"_parent\"><img src=\"https://colab.research.google.com/assets/colab-badge.svg\" alt=\"Open In Colab\"/></a>"
      ]
    },
    {
      "cell_type": "code",
      "execution_count": 12,
      "metadata": {
        "colab": {
          "base_uri": "https://localhost:8080/"
        },
        "id": "2aF4sEtzEWaC",
        "outputId": "7eafeb12-0a0a-4a42-c718-f1e91e7f380c"
      },
      "outputs": [
        {
          "name": "stdout",
          "output_type": "stream",
          "text": [
            "Drive already mounted at /content/drive; to attempt to forcibly remount, call drive.mount(\"/content/drive\", force_remount=True).\n"
          ]
        }
      ],
      "source": [
        "\"\"\"\n",
        "    Project Name: PdM Model for NASA Jet Engines\n",
        "    Data: 10/9/2022\n",
        "    Author: Arpi Derm\n",
        "    Description: This model aims to use PdM model and RUL to predict failures in point time T in near future.\n",
        "                 This specific model is built and trained for the NASA's PCoE Turbofan Engine Degradation (Run-To-Failure) dataset.\n",
        "    Dataset Description: \n",
        "                Dataset description along with its variable can be found in the dataset paper written by \n",
        "                Manuel Arias Chao,Chetan Kulkarni, Kai Goebel and Olga Fink. https://dx.doi.org/10.3390/data6010005\n",
        "    Variable Name Descriptions:\n",
        "            w = Scenario-descriptor operating conditions (inputs to system model)\n",
        "            x_s = sensor signal measurements (physical properties)\n",
        "            x_v = virtual sensor signals\n",
        "            t = engine health parameters \n",
        "            y_rul = target output Y - RUL (Remanding Useful Life) of engine unit\n",
        "            aux = Auxiliary data such as cycle count, unit id, ...\n",
        "\"\"\"\n",
        "\n",
        "# Colab data file preparation\n",
        "from google.colab import drive\n",
        "\n",
        "drive.mount(\"/content/drive\")\n",
        "\n",
        "!cp predictive-maintenance-platform/engine_data.py .\n",
        "!cp predictive-maintenance-platform/plot_util.py .\n",
        "!cp predictive-maintenance-platform/pdm_models.py .\n",
        "!cp predictive-maintenance-platform/pcoe_engine_data_visualizer.py .\n"
      ]
    },
    {
      "cell_type": "code",
      "execution_count": 15,
      "metadata": {
        "id": "9al6a1exEuIC"
      },
      "outputs": [],
      "source": [
        "import tensorflow as tf\n",
        "\n",
        "from engine_data import EngineData\n",
        "from pcoe_engine_data_visualizer import PcoeEngingeVis\n",
        "from plot_util import PlotUtil\n",
        "from pdm_models import PdMModels"
      ]
    },
    {
      "cell_type": "code",
      "execution_count": 10,
      "metadata": {
        "id": "D27R-TCwGwpO"
      },
      "outputs": [],
      "source": [
        "# Load all datasets\n",
        "DS_001 = \"/content/drive/MyDrive/Predictive_Maintenence_Fault_Detection/data_set/N-CMAPSS_DS01-005.h5\"\n",
        "DS_002 = \"/content/drive/MyDrive/Predictive_Maintenence_Fault_Detection/data_set/N-CMAPSS_DS02-006.h5\"\n",
        "DS_003 = \"/content/drive/MyDrive/Predictive_Maintenence_Fault_Detection/data_set/N-CMAPSS_DS03-012.h5\"\n",
        "DS_004 = \"/content/drive/MyDrive/Predictive_Maintenence_Fault_Detection/data_set/N-CMAPSS_DS04.h5\"\n",
        "DS_005 = \"/content/drive/MyDrive/Predictive_Maintenence_Fault_Detection/data_set/N-CMAPSS_DS05.h5\"\n",
        "DS_006 = \"/content/drive/MyDrive/Predictive_Maintenence_Fault_Detection/data_set/N-CMAPSS_DS06.h5\"\n",
        "DS_007 = \"/content/drive/MyDrive/Predictive_Maintenence_Fault_Detection/data_set/N-CMAPSS_DS07.h5\"\n",
        "DS_008 = \"/content/drive/MyDrive/Predictive_Maintenence_Fault_Detection/data_set/N-CMAPSS_DS08a-009.h5\"\n",
        "DS_009 = \"/content/drive/MyDrive/Predictive_Maintenence_Fault_Detection/data_set/N-CMAPSS_DS08c-008.h5\"\n",
        "DS_010 = \"/content/drive/MyDrive/Predictive_Maintenence_Fault_Detection/data_set/N-CMAPSS_DS08d-010.h5\""
      ]
    },
    {
      "cell_type": "code",
      "execution_count": null,
      "metadata": {
        "id": "2THOIr3uG2Sl"
      },
      "outputs": [],
      "source": [
        "# Load data set and prepare data frames\n",
        "ed = EngineData()\n",
        "pcoe_enging_vis = PcoeEngingeVis(ed)\n",
        "plot_util = PlotUtil()\n",
        "pdmModels = PdMModels()\n",
        "\n",
        "# Load Data from selected dataset file\n",
        "ed.load_hdf5_to_numpy_arr(DS_004)"
      ]
    },
    {
      "cell_type": "code",
      "execution_count": null,
      "metadata": {
        "id": "zZVJXqeuI7jd"
      },
      "outputs": [],
      "source": [
        "# Generate heatmap of sensor measurements dataframe to find correlation between each feature\n",
        "plot_util.generate_correlation_heatmap(ed.df_x_s_train)"
      ]
    },
    {
      "cell_type": "code",
      "execution_count": null,
      "metadata": {
        "id": "2taTJ2QQJ4NL"
      },
      "outputs": [],
      "source": [
        "# Add labels to training dataset and normalize data\n",
        "ed.df_x_s_train = ed.add_labels_to_dataset(ed.df_x_s_train)\n",
        "ed.df_x_s_train = ed.normalize_dataset(ed.df_x_s_train)\n",
        "\n",
        "# Add lavels to test dataset and normalize data\n",
        "ed.df_x_s_test = ed.add_labels_to_dataset(ed.df_x_s_test)\n",
        "ed.df_x_s_test = ed.normalize_dataset(ed.df_x_s_test)"
      ]
    },
    {
      "cell_type": "markdown",
      "metadata": {},
      "source": [
        "## MODELING"
      ]
    },
    {
      "cell_type": "markdown",
      "metadata": {},
      "source": [
        "The traditional predictive maintenance machine learning models are based on feature engineering which is manual construction of right features using domain expertise and similar methods. This usually makes these models hard to reuse since feature engineering is specific to the problem scenario and the available data which varies from one business to the other. Perhaps the most attractive part of applying deep learning in the predictive maintenance domain is the fact that these networks can automatically extract the right features from the data, eliminating the need for manual feature engineering.\n",
        "\n",
        "he idea of using LSTMs is to let the model extract abstract features out of the sequence of sensor values in the window rather than engineering those manually. The expectation is that if there is a pattern in these sensor values within the window prior to failure, the pattern should be encoded by the LSTM.\n",
        "\n",
        "One critical advantage of LSTMs is their ability to remember from long-term sequences (window sizes) which is hard to achieve by traditional feature engineering. For example, computing rolling averages over a window size of 50 cycles may lead to loss of information due to smoothing and abstracting of values over such a long period, instead, using all 50 values as input may provide better results. While feature engineering over large window sizes may not make sense, LSTMs are able to use larger window sizes and use all the information in the window as input. \n",
        "LSTM also has this long term memory over regular RNN architecture."
      ]
    },
    {
      "cell_type": "code",
      "execution_count": null,
      "metadata": {},
      "outputs": [],
      "source": [
        "# Get single engine data for training and test datasets\n",
        "single_engine_train = ed.generate_data_frame_for_specific_engine(ed.df_x_s_train, 3)\n",
        "single_engine_test = ed.generate_data_frame_for_specific_engine(ed.df_x_s_test, 7)\n",
        "\n",
        "# window of 50 cycles prior to a failure point for engine id 3\n",
        "engine_id3_windowed = ed.generate_data_frame_for_specific_engine(ed.df_x_s_train, 3, 50)\n",
        "ax1 = engine_id3_windowed.plot(subplots=True, sharex=True, figsize=(40,40))"
      ]
    },
    {
      "cell_type": "code",
      "execution_count": null,
      "metadata": {
        "id": "m45mXqivL8K9"
      },
      "outputs": [],
      "source": [
        "window = 40\n",
        "horizon = 5\n",
        "batch_size = 256\n",
        "buffer_size = 150\n",
        "\n",
        "epochs = 40\n",
        "steps = 100\n",
        "\n",
        "# Prepare X and Y training and test sets\n",
        "x_train, y_train = ed.generate_data_frame_for_x_and_y(single_engine_train)\n",
        "x_test, y_test = ed.generate_data_frame_for_x_and_y(single_engine_test)\n",
        "\n",
        "features = x_train.shape[2]\n",
        "model_mark_001 = pdmModels.create_binary_classifier_model(window, features, 100, 50, 0.2)"
      ]
    },
    {
      "cell_type": "code",
      "execution_count": null,
      "metadata": {},
      "outputs": [],
      "source": [
        "# Fit the model\n",
        "mark_001_history = pdmModels.fit_model(model_mark_001, x_train, y_train, epochs, steps, batch_size, 10)"
      ]
    },
    {
      "cell_type": "code",
      "execution_count": null,
      "metadata": {},
      "outputs": [],
      "source": [
        "# Generate accuracy and loss plots based on fitting history and save it to drive\n",
        "MARK_001_Data = \"/content/drive/MyDrive/Predictive_Maintenance_Fault_Detection/mark_001\"\n",
        "plot_util.generate_training_history_accuracy_and_loss_plot(mark_001_history, MARK_001_Data)"
      ]
    }
  ],
  "metadata": {
    "colab": {
      "include_colab_link": true,
      "provenance": []
    },
    "kernelspec": {
      "display_name": "Python 3.10.7 64-bit",
      "language": "python",
      "name": "python3"
    },
    "language_info": {
      "name": "python",
      "version": "3.10.7"
    },
    "orig_nbformat": 4,
    "vscode": {
      "interpreter": {
        "hash": "916dbcbb3f70747c44a77c7bcd40155683ae19c65e1c03b4aa3499c5328201f1"
      }
    }
  },
  "nbformat": 4,
  "nbformat_minor": 0
}
