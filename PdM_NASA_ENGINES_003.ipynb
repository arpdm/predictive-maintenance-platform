{
  "cells": [
    {
      "cell_type": "markdown",
      "metadata": {
        "id": "view-in-github",
        "colab_type": "text"
      },
      "source": [
        "<a href=\"https://colab.research.google.com/github/arpdm/predictive-maintenance-platform/blob/main/PdM_NASA_ENGINES_003.ipynb\" target=\"_parent\"><img src=\"https://colab.research.google.com/assets/colab-badge.svg\" alt=\"Open In Colab\"/></a>"
      ]
    },
    {
      "cell_type": "code",
      "execution_count": 12,
      "metadata": {
        "id": "2aF4sEtzEWaC",
        "outputId": "7eafeb12-0a0a-4a42-c718-f1e91e7f380c",
        "colab": {
          "base_uri": "https://localhost:8080/"
        }
      },
      "outputs": [
        {
          "output_type": "stream",
          "name": "stdout",
          "text": [
            "Drive already mounted at /content/drive; to attempt to forcibly remount, call drive.mount(\"/content/drive\", force_remount=True).\n"
          ]
        }
      ],
      "source": [
        "\"\"\"\n",
        "    Project Name: PdM Model for NASA Jet Engines\n",
        "    Data: 10/9/2022\n",
        "    Author: Arpi Derm\n",
        "    Description: This model aims to use PdM model and RUL to predict failures in point time T in near future.\n",
        "                 This specific model is built and trained for the NASA's PCoE Turbofan Engine Degradation (Run-To-Failure) dataset.\n",
        "    Dataset Description: \n",
        "                Dataset description along with its variable can be found in the dataset paper writtent by \n",
        "                Manuel Arias Chao,Chetan Kulkarni, Kai Goebel and Olga Fink. https://dx.doi.org/10.3390/data6010005\n",
        "    Variable Name Descriptions:\n",
        "            w = Scenario-descriptor operating conditions (inputs to system model)\n",
        "            x_s = sensor signal measurements (physical properties)\n",
        "            x_v = virtual sensor signals\n",
        "            t = engine health parameters \n",
        "            y_rul = target output Y - RUL (Remaning Useful Life) of engine unit\n",
        "            aux = Auxiliaryl data such as cycle count, unit id, ...\n",
        "\"\"\"\n",
        "\n",
        "# Colab data file preparation\n",
        "from google.colab import drive\n",
        "\n",
        "drive.mount(\"/content/drive\")\n",
        "\n",
        "!cp predictive-maintenance-platform/engine_data.py .\n",
        "!cp predictive-maintenance-platform/plot_util.py .\n",
        "!cp predictive-maintenance-platform/pdm_models.py .\n",
        "!cp predictive-maintenance-platform/pcoe_engine_data_visualizer.py .\n"
      ]
    },
    {
      "cell_type": "code",
      "source": [
        "import tensorflow as tf\n",
        "\n",
        "from engine_data import EngineData\n",
        "from pcoe_engine_data_visualizer import PcoeEngingeVis\n",
        "from plot_util import PlotUtil\n",
        "from pdm_models import PdMModels"
      ],
      "metadata": {
        "id": "9al6a1exEuIC"
      },
      "execution_count": 15,
      "outputs": []
    },
    {
      "cell_type": "code",
      "source": [
        "# Load all datasets\n",
        "DS_001 = \"/content/drive/MyDrive/Predictive_Maintenence_Fault_Detection/data_set/N-CMAPSS_DS01-005.h5\"\n",
        "DS_002 = \"/content/drive/MyDrive/Predictive_Maintenence_Fault_Detection/data_set/N-CMAPSS_DS02-006.h5\"\n",
        "DS_003 = \"/content/drive/MyDrive/Predictive_Maintenence_Fault_Detection/data_set/N-CMAPSS_DS03-012.h5\"\n",
        "DS_004 = \"/content/drive/MyDrive/Predictive_Maintenence_Fault_Detection/data_set/N-CMAPSS_DS04.h5\"\n",
        "DS_005 = \"/content/drive/MyDrive/Predictive_Maintenence_Fault_Detection/data_set/N-CMAPSS_DS05.h5\"\n",
        "DS_006 = \"/content/drive/MyDrive/Predictive_Maintenence_Fault_Detection/data_set/N-CMAPSS_DS06.h5\"\n",
        "DS_007 = \"/content/drive/MyDrive/Predictive_Maintenence_Fault_Detection/data_set/N-CMAPSS_DS07.h5\"\n",
        "DS_008 = \"/content/drive/MyDrive/Predictive_Maintenence_Fault_Detection/data_set/N-CMAPSS_DS08a-009.h5\"\n",
        "DS_009 = \"/content/drive/MyDrive/Predictive_Maintenence_Fault_Detection/data_set/N-CMAPSS_DS08c-008.h5\"\n",
        "DS_010 = \"/content/drive/MyDrive/Predictive_Maintenence_Fault_Detection/data_set/N-CMAPSS_DS08d-010.h5\""
      ],
      "metadata": {
        "id": "D27R-TCwGwpO"
      },
      "execution_count": 10,
      "outputs": []
    },
    {
      "cell_type": "code",
      "source": [
        "# Load data set and prepare data frames\n",
        "ed = EngineData()\n",
        "pcoe_enging_vis = PcoeEngingeVis(ed)\n",
        "plot_util = PlotUtil()\n",
        "pdmModels = PdMModels()\n",
        "\n",
        "# Load Data from selected dataset file\n",
        "ed.load_hdf5_to_numpy_arr(DS_004)"
      ],
      "metadata": {
        "id": "2THOIr3uG2Sl"
      },
      "execution_count": null,
      "outputs": []
    },
    {
      "cell_type": "code",
      "source": [
        "# Generate heatmap of sensor measurements dataframe to find correlation between each feature\n",
        "plot_util.generate_correlation_heatmap(ed.df_x_s_train)"
      ],
      "metadata": {
        "id": "zZVJXqeuI7jd"
      },
      "execution_count": null,
      "outputs": []
    },
    {
      "cell_type": "code",
      "source": [
        "# Add labels to training dataset and normalize data\n",
        "ed.df_x_s_train = ed.add_labels_to_dataset(ed.df_x_s_train)\n",
        "ed.df_x_s_train = ed.normalize_dataset(ed.df_x_s_train)\n",
        "\n",
        "# Add lavels to test dataset and normalize data\n",
        "ed.df_x_s_test = ed.add_labels_to_dataset(ed.df_x_s_test)\n",
        "ed.df_x_s_test = ed.normalize_dataset(ed.df_x_s_test)"
      ],
      "metadata": {
        "id": "2taTJ2QQJ4NL"
      },
      "execution_count": null,
      "outputs": []
    },
    {
      "cell_type": "code",
      "source": [
        "# Need to add model implementation here"
      ],
      "metadata": {
        "id": "m45mXqivL8K9"
      },
      "execution_count": null,
      "outputs": []
    }
  ],
  "metadata": {
    "kernelspec": {
      "display_name": "Python 3.10.7 64-bit",
      "language": "python",
      "name": "python3"
    },
    "language_info": {
      "name": "python",
      "version": "3.10.7"
    },
    "orig_nbformat": 4,
    "vscode": {
      "interpreter": {
        "hash": "916dbcbb3f70747c44a77c7bcd40155683ae19c65e1c03b4aa3499c5328201f1"
      }
    },
    "colab": {
      "provenance": [],
      "include_colab_link": true
    }
  },
  "nbformat": 4,
  "nbformat_minor": 0
}