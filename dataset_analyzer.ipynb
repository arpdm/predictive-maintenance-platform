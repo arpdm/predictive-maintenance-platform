{
 "cells": [
  {
   "cell_type": "markdown",
   "metadata": {
    "colab_type": "text",
    "id": "view-in-github"
   },
   "source": [
    "<a href=\"https://colab.research.google.com/github/arpdm/predictive-maintenance-platform/blob/main/dataset_analyzer.ipynb\" target=\"_parent\"><img src=\"https://colab.research.google.com/assets/colab-badge.svg\" alt=\"Open In Colab\"/></a>"
   ]
  },
  {
   "cell_type": "code",
   "execution_count": null,
   "metadata": {
    "colab": {
     "base_uri": "https://localhost:8080/"
    },
    "id": "2aF4sEtzEWaC",
    "outputId": "8083c8d7-ace3-4a35-91f2-8df10a4a0013"
   },
   "outputs": [],
   "source": [
    "\"\"\"\n",
    "    Project Name: PdM Model for NASA Jet Engines\n",
    "    Data: 10/9/2022\n",
    "    Author: Arpi Derm\n",
    "    Description: This model aims to use PdM model and RUL to predict failures in point time T in near future.\n",
    "                 This specific model is built and trained for the NASA's PCoE Turbofan Engine Degradation (Run-To-Failure) dataset.\n",
    "    Dataset Description: \n",
    "                Dataset description along with its variable can be found in the dataset paper written by \n",
    "                Manuel Arias Chao,Chetan Kulkarni, Kai Goebel and Olga Fink. https://dx.doi.org/10.3390/data6010005\n",
    "    Variable Name Descriptions:\n",
    "            w = Scenario-descriptor operating conditions (inputs to system model)\n",
    "            x_s = sensor signal measurements (physical properties)\n",
    "            x_v = virtual sensor signals\n",
    "            t = engine health parameters \n",
    "            y_rul = target output Y - RUL (Remanding Useful Life) of engine unit\n",
    "            aux = Auxiliary data such as cycle count, unit id, ...\n",
    "\n",
    "    Notebook horizon with multiple cycles in advance\n",
    "    https://colab.research.google.com/drive/1SGsU5jyuJVodUwAhf3Budeyh7c-gHXOR?usp=sharing#scrollTo=mXTILGKqWks0 \n",
    "\n",
    "    Custom Learning Rate Scheduler\n",
    "    https://colab.research.google.com/drive/1ceEa9Rs4BdGrfXfidwx-BpG-gtproWdQ#scrollTo=y6kJd40-0Hj9 \n",
    "\"\"\"\n",
    "\n",
    "# Colab data file preparation\n",
    "from google.colab import drive\n",
    "\n",
    "drive.mount(\"/content/drive/\")\n",
    "\n",
    "!cp drive/MyDrive/PdM/predictive-maintenance-platform/engine_data.py .\n",
    "!cp drive/MyDrive/PdM/predictive-maintenance-platform/plot_util.py .\n",
    "!cp drive/MyDrive/PdM/predictive-maintenance-platform/mark_001_model.py .\n",
    "!cp drive/MyDrive/PdM/predictive-maintenance-platform/pcoe_engine_data_visualizer.py ."
   ]
  },
  {
   "cell_type": "code",
   "execution_count": null,
   "metadata": {
    "id": "uDUm_U9FE54k"
   },
   "outputs": [],
   "source": [
    "pip install tensorflow-addons"
   ]
  },
  {
   "cell_type": "code",
   "execution_count": 3,
   "metadata": {
    "id": "9al6a1exEuIC"
   },
   "outputs": [],
   "source": [
    "import tensorflow as tf\n",
    "import numpy as np\n",
    "\n",
    "from engine_data import EngineData\n",
    "from pcoe_engine_data_visualizer import PcoeEngingeVis\n",
    "from plot_util import PlotUtil\n",
    "from mark_001_model import Mark001Model"
   ]
  },
  {
   "cell_type": "code",
   "execution_count": 4,
   "metadata": {
    "id": "D27R-TCwGwpO"
   },
   "outputs": [],
   "source": [
    "COLAB_ACTIVE = False\n",
    "\n",
    "if COLAB_ACTIVE:\n",
    "    BASE_PATH = \"/content/drive/MyDrive/PdM/data_set/\"\n",
    "else:\n",
    "    BASE_PATH = \"PdM/data_set/\"\n",
    "\n",
    "DS_001 = BASE_PATH + \"N-CMAPSS_DS01-005.h5\"\n",
    "DS_002 = BASE_PATH + \"N-CMAPSS_DS02-006.h5\"\n",
    "DS_003 = BASE_PATH + \"N-CMAPSS_DS03-012.h5\"\n",
    "DS_004 = BASE_PATH + \"N-CMAPSS_DS04.h5\"\n",
    "DS_005 = BASE_PATH + \"N-CMAPSS_DS05.h5\"\n",
    "DS_006 = BASE_PATH + \"N-CMAPSS_DS06.h5\"\n",
    "DS_007 = BASE_PATH + \"N-CMAPSS_DS07.h5\"\n",
    "DS_008 = BASE_PATH + \"N-CMAPSS_DS08a-009.h5\"\n",
    "DS_009 = BASE_PATH + \"N-CMAPSS_DS08c-008.h5\"\n",
    "DS_010 = BASE_PATH + \"N-CMAPSS_DS08d-010.h5\""
   ]
  },
  {
   "cell_type": "code",
   "execution_count": null,
   "metadata": {
    "id": "2THOIr3uG2Sl"
   },
   "outputs": [],
   "source": [
    "# Load data set and prepare data frames\n",
    "ed = EngineData()\n",
    "pcoe_enging_vis = PcoeEngingeVis(ed)\n",
    "plot_util = PlotUtil()\n",
    "mark_001 = Mark001Model()\n",
    "\n",
    "# Load Data from selected dataset file\n",
    "ed.load_hdf5_to_numpy_arr(DS_001)"
   ]
  },
  {
   "cell_type": "code",
   "execution_count": null,
   "metadata": {
    "colab": {
     "base_uri": "https://localhost:8080/"
    },
    "id": "IibVAFayFOT7",
    "outputId": "24823ed8-ab02-43b9-aed1-0ada9368ae46"
   },
   "outputs": [],
   "source": [
    "pcoe_enging_vis.get_engine_units_in_dataset()"
   ]
  },
  {
   "cell_type": "code",
   "execution_count": null,
   "metadata": {
    "colab": {
     "base_uri": "https://localhost:8080/",
     "height": 295
    },
    "id": "EcmKzTZOINuh",
    "outputId": "75f5cf7a-f4ca-4728-806e-2fec6539c33a"
   },
   "outputs": [],
   "source": [
    "pcoe_enging_vis.plot_flight_classes()"
   ]
  },
  {
   "cell_type": "code",
   "execution_count": null,
   "metadata": {
    "colab": {
     "base_uri": "https://localhost:8080/"
    },
    "id": "-ARWio4yMS4m",
    "outputId": "e39f19ac-fb6f-40b6-fa8f-fdb0a169b88e"
   },
   "outputs": [],
   "source": [
    "# we want to know if the engine will fail in next cycle (flight) or not\n",
    "# so labels are added to the dataset to be the outputs of 1 or 0\n",
    "ed.df_x_s_test = ed.add_labels_to_dataset(ed.df_x_s_test, 30, 15)\n",
    "ed.df_x_s_test = ed.normalize_dataset(ed.df_x_s_test)"
   ]
  },
  {
   "cell_type": "code",
   "execution_count": null,
   "metadata": {
    "colab": {
     "base_uri": "https://localhost:8080/"
    },
    "id": "cV8CFrQ9lCb8",
    "outputId": "a2c1422b-867c-4a2f-a6c6-778c55527140"
   },
   "outputs": [],
   "source": [
    "for engine_unit in np.unique(ed.df_aux_test[\"unit\"]):\n",
    "    cummulative_cycle_length_s = 0\n",
    "    df_x_s_u_c = ed.df_x_s_test.loc[(ed.df_aux_test.unit == engine_unit)]\n",
    "    going_to_fail = False\n",
    "    for cycle in np.unique(ed.df_aux_test.cycle):\n",
    "        df_x_s_u_c = ed.df_x_s_test.loc[(ed.df_aux_test.unit == engine_unit) & (ed.df_aux_test.cycle == cycle)]\n",
    "        cummulative_cycle_length_s += df_x_s_u_c.P21.size\n",
    "        if df_x_s_u_c.label1.min() == 1:\n",
    "            going_to_fail = True\n",
    "        print(\n",
    "            \"Engine Unit = \",\n",
    "            engine_unit,\n",
    "            \"Cycle = \",\n",
    "            cycle,\n",
    "            \"Cycle_Duration (h) = \",\n",
    "            round((df_x_s_u_c.P21.size / 60) / 60, 2),\n",
    "            \"Cycle_Duration (s) = \",\n",
    "            df_x_s_u_c.P21.size,\n",
    "            \"Commulative Cycle Length (s) = \",\n",
    "            cummulative_cycle_length_s,\n",
    "            \"L1 = \",\n",
    "            df_x_s_u_c.label1.min(),\n",
    "            \"RUL = \",\n",
    "            df_x_s_u_c.RUL.min(),\n",
    "            \"Going to Fail = \",\n",
    "            going_to_fail,\n",
    "        )"
   ]
  },
  {
   "cell_type": "code",
   "execution_count": null,
   "metadata": {
    "colab": {
     "base_uri": "https://localhost:8080/",
     "height": 531
    },
    "id": "z5Zmau55VVjX",
    "outputId": "120c03d6-cf05-4d16-add4-43b1f3805ecc"
   },
   "outputs": [],
   "source": [
    "pcoe_enging_vis.plot_health_states_for_all_engines()"
   ]
  },
  {
   "cell_type": "code",
   "execution_count": null,
   "metadata": {
    "colab": {
     "base_uri": "https://localhost:8080/",
     "height": 357
    },
    "id": "XzU1K1ExeC4y",
    "outputId": "858ba78d-78db-439e-8d68-70cdd17a09c7"
   },
   "outputs": [],
   "source": [
    "pcoe_enging_vis.generate_flight_envelope()"
   ]
  },
  {
   "cell_type": "code",
   "execution_count": null,
   "metadata": {
    "colab": {
     "base_uri": "https://localhost:8080/",
     "height": 747
    },
    "id": "k9LFy0VseYfF",
    "outputId": "4458f378-e11f-4102-8187-a6974012041b"
   },
   "outputs": [],
   "source": [
    "pcoe_enging_vis.generate_kde_estimations_of_flight_profile()"
   ]
  }
 ],
 "metadata": {
  "accelerator": "GPU",
  "colab": {
   "include_colab_link": true,
   "machine_shape": "hm",
   "provenance": []
  },
  "gpuClass": "premium",
  "kernelspec": {
   "display_name": "Python 3",
   "language": "python",
   "name": "python3"
  },
  "language_info": {
   "name": "python",
   "version": "3.10.6"
  },
  "orig_nbformat": 4,
  "vscode": {
   "interpreter": {
    "hash": "e7370f93d1d0cde622a1f8e1c04877d8463912d04d973331ad4851f04de6915a"
   }
  }
 },
 "nbformat": 4,
 "nbformat_minor": 0
}
